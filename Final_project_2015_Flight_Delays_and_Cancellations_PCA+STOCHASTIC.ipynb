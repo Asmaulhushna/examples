{
  "nbformat": 4,
  "nbformat_minor": 0,
  "metadata": {
    "colab": {
      "name": "Final_project_2015_Flight_Delays_and_Cancellations_PCA+STOCHASTIC.ipynb",
      "version": "0.3.2",
      "provenance": [],
      "collapsed_sections": [],
      "include_colab_link": true
    },
    "kernelspec": {
      "name": "python3",
      "display_name": "Python 3"
    },
    "accelerator": "GPU"
  },
  "cells": [
    {
      "cell_type": "markdown",
      "metadata": {
        "id": "view-in-github",
        "colab_type": "text"
      },
      "source": [
        "<a href=\"https://colab.research.google.com/github/Asmaulhushna/examples/blob/master/Final_project_2015_Flight_Delays_and_Cancellations_PCA%2BSTOCHASTIC.ipynb\" target=\"_parent\"><img src=\"https://colab.research.google.com/assets/colab-badge.svg\" alt=\"Open In Colab\"/></a>"
      ]
    },
    {
      "cell_type": "markdown",
      "metadata": {
        "id": "X9Q9A7u-5DGY",
        "colab_type": "text"
      },
      "source": [
        "# Machine Learning 3253 Project - \"2015 Flight Delays and Cancellations\""
      ]
    },
    {
      "cell_type": "markdown",
      "metadata": {
        "id": "LYFlMyLm6OkZ",
        "colab_type": "text"
      },
      "source": [
        "##Team Members\n",
        "\n",
        "\n",
        "*   Asma-Ul-Hushna\n",
        "*   Xubin Zhao\n",
        "* \tYaxal Arenas\n",
        "\n",
        "\n",
        "\n",
        "\n",
        "\n"
      ]
    },
    {
      "cell_type": "markdown",
      "metadata": {
        "id": "o88lVEq17rXe",
        "colab_type": "text"
      },
      "source": [
        "## Project Overview\n",
        "\n",
        "In 2015 there are lots of flight delays in United States for some reason. Nearly one third of all flights in our data set have delays. The main reasons for flight delays are wheather related but in some cases there are also airline or airport related flight delays. This document examines and shows the delay and cancellation causes in several aspects."
      ]
    },
    {
      "cell_type": "markdown",
      "metadata": {
        "id": "NpddVZGZ7_hQ",
        "colab_type": "text"
      },
      "source": [
        "## Notebook Contents\n",
        "\n",
        "This notebook will explore the data, evaluate some models and draw conclusions. It is divided into the following main sections:\n",
        "\n",
        "\n",
        "\n",
        "\n",
        "\n",
        "\n",
        "\n",
        "\n",
        "\n",
        "1.   Setup the environment - seting up the notebook environment.\n",
        "2.   Get the data - loading the data set into the notebook.\n",
        "3.   Explore the data - exploring the raw flights data.\n",
        "4.   Prepare the data - data cleansing, feature selection\\reduction\\engineering and      standardization.\n",
        "5.   Model - training and testing various models.\n",
        "6.   Evaluate the model - analyzing model results.\n",
        "7.   Summary - summarizing the observations and conclusions.\n"
      ]
    },
    {
      "cell_type": "markdown",
      "metadata": {
        "id": "UyNvK7ky9s5Z",
        "colab_type": "text"
      },
      "source": [
        "## 1. Setup the environment"
      ]
    },
    {
      "cell_type": "code",
      "metadata": {
        "id": "LV-1idnh9xVp",
        "colab_type": "code",
        "colab": {}
      },
      "source": [
        "# import the basic libraries\n",
        "import numpy as np\n",
        "import pandas as pd\n",
        "\n",
        "# to make this notebook's output stable across runs\n",
        "np.random.seed(123)\n",
        "\n",
        "# To plot pretty figures\n",
        "%matplotlib inline\n",
        "import matplotlib\n",
        "import matplotlib.pyplot as plt\n",
        "plt.rcParams['axes.labelsize'] = 14\n",
        "plt.rcParams['xtick.labelsize'] = 12\n",
        "plt.rcParams['ytick.labelsize'] = 12\n",
        "from matplotlib import pyplot\n",
        "\n",
        "# scatter matrix plotting\n",
        "from pandas.plotting import scatter_matrix\n",
        "\n",
        "# enable advanced plots\n",
        "import seaborn as sns\n",
        "\n",
        "# import sklearn libraries\n",
        "\n",
        "# feature selection and reduction\n",
        "from sklearn.decomposition import PCA\n",
        "# feature clustering\n",
        "from sklearn.cluster import KMeans\n",
        "\n",
        "# pipeline processing\n",
        "from sklearn.pipeline import Pipeline\n",
        "from sklearn.preprocessing import OrdinalEncoder\n",
        "from sklearn.preprocessing import OneHotEncoder\n",
        "from sklearn.preprocessing import StandardScaler\n",
        "from sklearn.impute import SimpleImputer\n",
        "from sklearn.pipeline import FeatureUnion\n",
        "\n",
        "# data splitting\n",
        "from sklearn.model_selection import train_test_split\n",
        "\n",
        "# classifier models\n",
        "from sklearn.linear_model import LogisticRegression\n",
        "from sklearn.neighbors import KNeighborsClassifier\n",
        "from sklearn.ensemble import RandomForestClassifier\n",
        "from sklearn.model_selection import GridSearchCV\n",
        "from sklearn.tree import DecisionTreeClassifier\n",
        "\n",
        "\n",
        "from sklearn.compose import ColumnTransformer\n",
        "\n",
        "\n",
        "# model evaluation\n",
        "from sklearn.model_selection import cross_val_predict\n",
        "from sklearn.model_selection import cross_val_score\n",
        "from sklearn.metrics import classification_report\n",
        "from sklearn.metrics import confusion_matrix\n",
        "from sklearn.metrics import classification_report \n",
        "from sklearn.metrics import precision_score, recall_score\n",
        "from sklearn.metrics import precision_recall_curve\n",
        "from sklearn.metrics import roc_curve\n",
        "from sklearn.metrics import roc_auc_score\n",
        "from sklearn.metrics import accuracy_score"
      ],
      "execution_count": 0,
      "outputs": []
    },
    {
      "cell_type": "code",
      "metadata": {
        "id": "a02ynE3r-vO3",
        "colab_type": "code",
        "colab": {}
      },
      "source": [
        "# ensure full display for dataframe content\n",
        "pd.set_option('display.max_rows', 100)\n",
        "pd.set_option('display.max_columns', 100)\n",
        "pd.set_option('precision', 5)\n",
        "pd.set_option('large_repr', 'truncate')\n",
        "pd.set_option('display.max_colwidth', -1)\n",
        "pd.set_option('colheader_justify', 'left')"
      ],
      "execution_count": 0,
      "outputs": []
    },
    {
      "cell_type": "code",
      "metadata": {
        "id": "zFO7kIK__KCA",
        "colab_type": "code",
        "colab": {}
      },
      "source": [
        "# suppress warnings\n",
        "import warnings\n",
        "warnings.filterwarnings('ignore')"
      ],
      "execution_count": 0,
      "outputs": []
    },
    {
      "cell_type": "markdown",
      "metadata": {
        "id": "aCjJal9M-thu",
        "colab_type": "text"
      },
      "source": [
        "## 1. Get the data\n",
        "\n",
        "There are 3 seperate CSV files. We will load them one by one from google drive."
      ]
    },
    {
      "cell_type": "code",
      "metadata": {
        "id": "5XehaWmyZpqO",
        "colab_type": "code",
        "colab": {}
      },
      "source": [
        "# Code to read csv file into Colaboratory:\n",
        "!pip install -U -q PyDrive\n",
        "from pydrive.auth import GoogleAuth\n",
        "from pydrive.drive import GoogleDrive\n",
        "from google.colab import auth\n",
        "from oauth2client.client import GoogleCredentials\n",
        "\n",
        "# Authenticate and create the PyDrive client.\n",
        "auth.authenticate_user()\n",
        "gauth = GoogleAuth()\n",
        "gauth.credentials = GoogleCredentials.get_application_default()\n",
        "drive = GoogleDrive(gauth)"
      ],
      "execution_count": 0,
      "outputs": []
    },
    {
      "cell_type": "markdown",
      "metadata": {
        "id": "FtLf7o-PDEQU",
        "colab_type": "text"
      },
      "source": [
        "**Loading 'flights.csv'**"
      ]
    },
    {
      "cell_type": "code",
      "metadata": {
        "id": "omrsZ6yZIjOf",
        "colab_type": "code",
        "colab": {}
      },
      "source": [
        "link_flights = 'https://drive.google.com/open?id=1y6fJQfLJ5o7bwbDZkX09m-shhoq56QB8' # The shareable link"
      ],
      "execution_count": 0,
      "outputs": []
    },
    {
      "cell_type": "code",
      "metadata": {
        "id": "ICdaaDCkJ7GS",
        "colab_type": "code",
        "colab": {
          "base_uri": "https://localhost:8080/",
          "height": 35
        },
        "outputId": "8f2fed1e-5563-46c2-ae00-8abf0039687b"
      },
      "source": [
        "fluff, id = link_flights.split('=')\n",
        "print (id) # Verify that you have everything after '='"
      ],
      "execution_count": 6,
      "outputs": [
        {
          "output_type": "stream",
          "text": [
            "1y6fJQfLJ5o7bwbDZkX09m-shhoq56QB8\n"
          ],
          "name": "stdout"
        }
      ]
    },
    {
      "cell_type": "code",
      "metadata": {
        "id": "pE796QUAJ7MC",
        "colab_type": "code",
        "colab": {}
      },
      "source": [
        "downloaded = drive.CreateFile({'id':id}) \n",
        "downloaded.GetContentFile('flights.csv')  \n",
        "flights_df = pd.read_csv('flights.csv')  # flights.csv Dataset is now stored in a Pandas Dataframe"
      ],
      "execution_count": 0,
      "outputs": []
    },
    {
      "cell_type": "markdown",
      "metadata": {
        "id": "AdQfGpQ3C-Je",
        "colab_type": "text"
      },
      "source": [
        "**Loading 'airlines.csv'**"
      ]
    },
    {
      "cell_type": "code",
      "metadata": {
        "id": "JA9x-XwxaQcf",
        "colab_type": "code",
        "colab": {}
      },
      "source": [
        "link_airlines = 'https://drive.google.com/open?id=1lJlVAUqyYcH8eRnnBgc7MEtGJ-Tqq-bh' # The shareable link"
      ],
      "execution_count": 0,
      "outputs": []
    },
    {
      "cell_type": "code",
      "metadata": {
        "id": "Ij9h3OXNaQjC",
        "colab_type": "code",
        "colab": {
          "base_uri": "https://localhost:8080/",
          "height": 35
        },
        "outputId": "45e169fb-10e3-4297-e547-7a3d8cff5340"
      },
      "source": [
        "fluff, id = link_airlines.split('=')\n",
        "print (id) # Verify that you have everything after '='"
      ],
      "execution_count": 9,
      "outputs": [
        {
          "output_type": "stream",
          "text": [
            "1lJlVAUqyYcH8eRnnBgc7MEtGJ-Tqq-bh\n"
          ],
          "name": "stdout"
        }
      ]
    },
    {
      "cell_type": "code",
      "metadata": {
        "id": "sujbJWe0ZzQ9",
        "colab_type": "code",
        "colab": {}
      },
      "source": [
        "import pandas as pd\n",
        "downloaded = drive.CreateFile({'id':id}) \n",
        "downloaded.GetContentFile('airlines.csv')  \n",
        "airlines_df = pd.read_csv('airlines.csv')  # airlines.csv dataset is now stored in a Pandas Dataframe"
      ],
      "execution_count": 0,
      "outputs": []
    },
    {
      "cell_type": "markdown",
      "metadata": {
        "id": "Sd4G7X27DaXI",
        "colab_type": "text"
      },
      "source": [
        "**Loading 'airports.csv'**"
      ]
    },
    {
      "cell_type": "code",
      "metadata": {
        "id": "l5gkGutseW0v",
        "colab_type": "code",
        "colab": {}
      },
      "source": [
        "link_airports = 'https://drive.google.com/open?id=1xY7VJRQQbacbufZZG11GGNOJ1dmnuHLa' # The shareable link"
      ],
      "execution_count": 0,
      "outputs": []
    },
    {
      "cell_type": "code",
      "metadata": {
        "id": "zsp2bbZsIX6z",
        "colab_type": "code",
        "colab": {
          "base_uri": "https://localhost:8080/",
          "height": 35
        },
        "outputId": "e45e228c-b52d-40df-a12d-8a7b4fec0122"
      },
      "source": [
        "fluff, id = link_airports.split('=')\n",
        "print (id) # Verify that you have everything after '='"
      ],
      "execution_count": 12,
      "outputs": [
        {
          "output_type": "stream",
          "text": [
            "1xY7VJRQQbacbufZZG11GGNOJ1dmnuHLa\n"
          ],
          "name": "stdout"
        }
      ]
    },
    {
      "cell_type": "code",
      "metadata": {
        "id": "5SxT1ROxIe32",
        "colab_type": "code",
        "colab": {}
      },
      "source": [
        "downloaded = drive.CreateFile({'id':id}) \n",
        "downloaded.GetContentFile('airports.csv')  \n",
        "airports_df = pd.read_csv('airports.csv') # airports.csv dataset is now stored in a Pandas Dataframe"
      ],
      "execution_count": 0,
      "outputs": []
    },
    {
      "cell_type": "markdown",
      "metadata": {
        "id": "kOZR2GDKGj6S",
        "colab_type": "text"
      },
      "source": [
        "## 3. Explore the data"
      ]
    },
    {
      "cell_type": "code",
      "metadata": {
        "id": "MxrJBFt_G5U3",
        "colab_type": "code",
        "colab": {
          "base_uri": "https://localhost:8080/",
          "height": 222
        },
        "outputId": "d6a8fa48-3e8b-4c0e-fb5e-26b5dfd1bb88"
      },
      "source": [
        "flights_df.head()"
      ],
      "execution_count": 14,
      "outputs": [
        {
          "output_type": "execute_result",
          "data": {
            "text/html": [
              "<div>\n",
              "<style scoped>\n",
              "    .dataframe tbody tr th:only-of-type {\n",
              "        vertical-align: middle;\n",
              "    }\n",
              "\n",
              "    .dataframe tbody tr th {\n",
              "        vertical-align: top;\n",
              "    }\n",
              "\n",
              "    .dataframe thead th {\n",
              "        text-align: right;\n",
              "    }\n",
              "</style>\n",
              "<table border=\"1\" class=\"dataframe\">\n",
              "  <thead>\n",
              "    <tr style=\"text-align: left;\">\n",
              "      <th></th>\n",
              "      <th>YEAR</th>\n",
              "      <th>MONTH</th>\n",
              "      <th>DAY</th>\n",
              "      <th>DAY_OF_WEEK</th>\n",
              "      <th>AIRLINE</th>\n",
              "      <th>FLIGHT_NUMBER</th>\n",
              "      <th>TAIL_NUMBER</th>\n",
              "      <th>ORIGIN_AIRPORT</th>\n",
              "      <th>DESTINATION_AIRPORT</th>\n",
              "      <th>SCHEDULED_DEPARTURE</th>\n",
              "      <th>DEPARTURE_TIME</th>\n",
              "      <th>DEPARTURE_DELAY</th>\n",
              "      <th>TAXI_OUT</th>\n",
              "      <th>WHEELS_OFF</th>\n",
              "      <th>SCHEDULED_TIME</th>\n",
              "      <th>ELAPSED_TIME</th>\n",
              "      <th>AIR_TIME</th>\n",
              "      <th>DISTANCE</th>\n",
              "      <th>WHEELS_ON</th>\n",
              "      <th>TAXI_IN</th>\n",
              "      <th>SCHEDULED_ARRIVAL</th>\n",
              "      <th>ARRIVAL_TIME</th>\n",
              "      <th>ARRIVAL_DELAY</th>\n",
              "      <th>DIVERTED</th>\n",
              "      <th>CANCELLED</th>\n",
              "      <th>CANCELLATION_REASON</th>\n",
              "      <th>AIR_SYSTEM_DELAY</th>\n",
              "      <th>SECURITY_DELAY</th>\n",
              "      <th>AIRLINE_DELAY</th>\n",
              "      <th>LATE_AIRCRAFT_DELAY</th>\n",
              "      <th>WEATHER_DELAY</th>\n",
              "    </tr>\n",
              "  </thead>\n",
              "  <tbody>\n",
              "    <tr>\n",
              "      <th>0</th>\n",
              "      <td>2015</td>\n",
              "      <td>1</td>\n",
              "      <td>1</td>\n",
              "      <td>4</td>\n",
              "      <td>AS</td>\n",
              "      <td>98</td>\n",
              "      <td>N407AS</td>\n",
              "      <td>ANC</td>\n",
              "      <td>SEA</td>\n",
              "      <td>5</td>\n",
              "      <td>2354.0</td>\n",
              "      <td>-11.0</td>\n",
              "      <td>21.0</td>\n",
              "      <td>15.0</td>\n",
              "      <td>205.0</td>\n",
              "      <td>194.0</td>\n",
              "      <td>169.0</td>\n",
              "      <td>1448</td>\n",
              "      <td>404.0</td>\n",
              "      <td>4.0</td>\n",
              "      <td>430</td>\n",
              "      <td>408.0</td>\n",
              "      <td>-22.0</td>\n",
              "      <td>0</td>\n",
              "      <td>0</td>\n",
              "      <td>NaN</td>\n",
              "      <td>NaN</td>\n",
              "      <td>NaN</td>\n",
              "      <td>NaN</td>\n",
              "      <td>NaN</td>\n",
              "      <td>NaN</td>\n",
              "    </tr>\n",
              "    <tr>\n",
              "      <th>1</th>\n",
              "      <td>2015</td>\n",
              "      <td>1</td>\n",
              "      <td>1</td>\n",
              "      <td>4</td>\n",
              "      <td>AA</td>\n",
              "      <td>2336</td>\n",
              "      <td>N3KUAA</td>\n",
              "      <td>LAX</td>\n",
              "      <td>PBI</td>\n",
              "      <td>10</td>\n",
              "      <td>2.0</td>\n",
              "      <td>-8.0</td>\n",
              "      <td>12.0</td>\n",
              "      <td>14.0</td>\n",
              "      <td>280.0</td>\n",
              "      <td>279.0</td>\n",
              "      <td>263.0</td>\n",
              "      <td>2330</td>\n",
              "      <td>737.0</td>\n",
              "      <td>4.0</td>\n",
              "      <td>750</td>\n",
              "      <td>741.0</td>\n",
              "      <td>-9.0</td>\n",
              "      <td>0</td>\n",
              "      <td>0</td>\n",
              "      <td>NaN</td>\n",
              "      <td>NaN</td>\n",
              "      <td>NaN</td>\n",
              "      <td>NaN</td>\n",
              "      <td>NaN</td>\n",
              "      <td>NaN</td>\n",
              "    </tr>\n",
              "    <tr>\n",
              "      <th>2</th>\n",
              "      <td>2015</td>\n",
              "      <td>1</td>\n",
              "      <td>1</td>\n",
              "      <td>4</td>\n",
              "      <td>US</td>\n",
              "      <td>840</td>\n",
              "      <td>N171US</td>\n",
              "      <td>SFO</td>\n",
              "      <td>CLT</td>\n",
              "      <td>20</td>\n",
              "      <td>18.0</td>\n",
              "      <td>-2.0</td>\n",
              "      <td>16.0</td>\n",
              "      <td>34.0</td>\n",
              "      <td>286.0</td>\n",
              "      <td>293.0</td>\n",
              "      <td>266.0</td>\n",
              "      <td>2296</td>\n",
              "      <td>800.0</td>\n",
              "      <td>11.0</td>\n",
              "      <td>806</td>\n",
              "      <td>811.0</td>\n",
              "      <td>5.0</td>\n",
              "      <td>0</td>\n",
              "      <td>0</td>\n",
              "      <td>NaN</td>\n",
              "      <td>NaN</td>\n",
              "      <td>NaN</td>\n",
              "      <td>NaN</td>\n",
              "      <td>NaN</td>\n",
              "      <td>NaN</td>\n",
              "    </tr>\n",
              "    <tr>\n",
              "      <th>3</th>\n",
              "      <td>2015</td>\n",
              "      <td>1</td>\n",
              "      <td>1</td>\n",
              "      <td>4</td>\n",
              "      <td>AA</td>\n",
              "      <td>258</td>\n",
              "      <td>N3HYAA</td>\n",
              "      <td>LAX</td>\n",
              "      <td>MIA</td>\n",
              "      <td>20</td>\n",
              "      <td>15.0</td>\n",
              "      <td>-5.0</td>\n",
              "      <td>15.0</td>\n",
              "      <td>30.0</td>\n",
              "      <td>285.0</td>\n",
              "      <td>281.0</td>\n",
              "      <td>258.0</td>\n",
              "      <td>2342</td>\n",
              "      <td>748.0</td>\n",
              "      <td>8.0</td>\n",
              "      <td>805</td>\n",
              "      <td>756.0</td>\n",
              "      <td>-9.0</td>\n",
              "      <td>0</td>\n",
              "      <td>0</td>\n",
              "      <td>NaN</td>\n",
              "      <td>NaN</td>\n",
              "      <td>NaN</td>\n",
              "      <td>NaN</td>\n",
              "      <td>NaN</td>\n",
              "      <td>NaN</td>\n",
              "    </tr>\n",
              "    <tr>\n",
              "      <th>4</th>\n",
              "      <td>2015</td>\n",
              "      <td>1</td>\n",
              "      <td>1</td>\n",
              "      <td>4</td>\n",
              "      <td>AS</td>\n",
              "      <td>135</td>\n",
              "      <td>N527AS</td>\n",
              "      <td>SEA</td>\n",
              "      <td>ANC</td>\n",
              "      <td>25</td>\n",
              "      <td>24.0</td>\n",
              "      <td>-1.0</td>\n",
              "      <td>11.0</td>\n",
              "      <td>35.0</td>\n",
              "      <td>235.0</td>\n",
              "      <td>215.0</td>\n",
              "      <td>199.0</td>\n",
              "      <td>1448</td>\n",
              "      <td>254.0</td>\n",
              "      <td>5.0</td>\n",
              "      <td>320</td>\n",
              "      <td>259.0</td>\n",
              "      <td>-21.0</td>\n",
              "      <td>0</td>\n",
              "      <td>0</td>\n",
              "      <td>NaN</td>\n",
              "      <td>NaN</td>\n",
              "      <td>NaN</td>\n",
              "      <td>NaN</td>\n",
              "      <td>NaN</td>\n",
              "      <td>NaN</td>\n",
              "    </tr>\n",
              "  </tbody>\n",
              "</table>\n",
              "</div>"
            ],
            "text/plain": [
              "   YEAR  MONTH  DAY  DAY_OF_WEEK AIRLINE  FLIGHT_NUMBER TAIL_NUMBER  \\\n",
              "0  2015  1      1    4            AS      98             N407AS       \n",
              "1  2015  1      1    4            AA      2336           N3KUAA       \n",
              "2  2015  1      1    4            US      840            N171US       \n",
              "3  2015  1      1    4            AA      258            N3HYAA       \n",
              "4  2015  1      1    4            AS      135            N527AS       \n",
              "\n",
              "  ORIGIN_AIRPORT DESTINATION_AIRPORT  SCHEDULED_DEPARTURE  DEPARTURE_TIME  \\\n",
              "0  ANC            SEA                 5                    2354.0           \n",
              "1  LAX            PBI                 10                   2.0              \n",
              "2  SFO            CLT                 20                   18.0             \n",
              "3  LAX            MIA                 20                   15.0             \n",
              "4  SEA            ANC                 25                   24.0             \n",
              "\n",
              "   DEPARTURE_DELAY  TAXI_OUT  WHEELS_OFF  SCHEDULED_TIME  ELAPSED_TIME  \\\n",
              "0 -11.0             21.0      15.0        205.0           194.0          \n",
              "1 -8.0              12.0      14.0        280.0           279.0          \n",
              "2 -2.0              16.0      34.0        286.0           293.0          \n",
              "3 -5.0              15.0      30.0        285.0           281.0          \n",
              "4 -1.0              11.0      35.0        235.0           215.0          \n",
              "\n",
              "   AIR_TIME  DISTANCE  WHEELS_ON  TAXI_IN  SCHEDULED_ARRIVAL  ARRIVAL_TIME  \\\n",
              "0  169.0     1448      404.0      4.0      430                408.0          \n",
              "1  263.0     2330      737.0      4.0      750                741.0          \n",
              "2  266.0     2296      800.0      11.0     806                811.0          \n",
              "3  258.0     2342      748.0      8.0      805                756.0          \n",
              "4  199.0     1448      254.0      5.0      320                259.0          \n",
              "\n",
              "   ARRIVAL_DELAY  DIVERTED  CANCELLED CANCELLATION_REASON  AIR_SYSTEM_DELAY  \\\n",
              "0 -22.0           0         0          NaN                NaN                 \n",
              "1 -9.0            0         0          NaN                NaN                 \n",
              "2  5.0            0         0          NaN                NaN                 \n",
              "3 -9.0            0         0          NaN                NaN                 \n",
              "4 -21.0           0         0          NaN                NaN                 \n",
              "\n",
              "   SECURITY_DELAY  AIRLINE_DELAY  LATE_AIRCRAFT_DELAY  WEATHER_DELAY  \n",
              "0 NaN             NaN            NaN                  NaN             \n",
              "1 NaN             NaN            NaN                  NaN             \n",
              "2 NaN             NaN            NaN                  NaN             \n",
              "3 NaN             NaN            NaN                  NaN             \n",
              "4 NaN             NaN            NaN                  NaN             "
            ]
          },
          "metadata": {
            "tags": []
          },
          "execution_count": 14
        }
      ]
    },
    {
      "cell_type": "code",
      "metadata": {
        "id": "4oIOfh0ZC-fw",
        "colab_type": "code",
        "colab": {
          "base_uri": "https://localhost:8080/",
          "height": 35
        },
        "outputId": "02f89c5f-1a54-464a-d82a-723ca21baefc"
      },
      "source": [
        "print (\"The shape of flights dataset is\", flights_df.shape)"
      ],
      "execution_count": 15,
      "outputs": [
        {
          "output_type": "stream",
          "text": [
            "The shape of flights dataset is (5819079, 31)\n"
          ],
          "name": "stdout"
        }
      ]
    },
    {
      "cell_type": "code",
      "metadata": {
        "id": "PymBeJiDDr2A",
        "colab_type": "code",
        "colab": {
          "base_uri": "https://localhost:8080/",
          "height": 641
        },
        "outputId": "073b4592-626e-4d3c-c0e1-d276880f1251"
      },
      "source": [
        "flights_df.info()"
      ],
      "execution_count": 16,
      "outputs": [
        {
          "output_type": "stream",
          "text": [
            "<class 'pandas.core.frame.DataFrame'>\n",
            "RangeIndex: 5819079 entries, 0 to 5819078\n",
            "Data columns (total 31 columns):\n",
            "YEAR                   int64\n",
            "MONTH                  int64\n",
            "DAY                    int64\n",
            "DAY_OF_WEEK            int64\n",
            "AIRLINE                object\n",
            "FLIGHT_NUMBER          int64\n",
            "TAIL_NUMBER            object\n",
            "ORIGIN_AIRPORT         object\n",
            "DESTINATION_AIRPORT    object\n",
            "SCHEDULED_DEPARTURE    int64\n",
            "DEPARTURE_TIME         float64\n",
            "DEPARTURE_DELAY        float64\n",
            "TAXI_OUT               float64\n",
            "WHEELS_OFF             float64\n",
            "SCHEDULED_TIME         float64\n",
            "ELAPSED_TIME           float64\n",
            "AIR_TIME               float64\n",
            "DISTANCE               int64\n",
            "WHEELS_ON              float64\n",
            "TAXI_IN                float64\n",
            "SCHEDULED_ARRIVAL      int64\n",
            "ARRIVAL_TIME           float64\n",
            "ARRIVAL_DELAY          float64\n",
            "DIVERTED               int64\n",
            "CANCELLED              int64\n",
            "CANCELLATION_REASON    object\n",
            "AIR_SYSTEM_DELAY       float64\n",
            "SECURITY_DELAY         float64\n",
            "AIRLINE_DELAY          float64\n",
            "LATE_AIRCRAFT_DELAY    float64\n",
            "WEATHER_DELAY          float64\n",
            "dtypes: float64(16), int64(10), object(5)\n",
            "memory usage: 1.3+ GB\n"
          ],
          "name": "stdout"
        }
      ]
    },
    {
      "cell_type": "markdown",
      "metadata": {
        "id": "ppv1AgdGIz25",
        "colab_type": "text"
      },
      "source": [
        "Each entry of the 'flights.csv' file corresponds to a flight and we see that more than 5,800,000 flights have been recorded in 2015. These flights are described according to 31 variables. A description of these variables can be found here and we briefly recall the meaning of the variables that will be used in this notebook:\n",
        "\n",
        "YEAR, MONTH, DAY, DAY_OF_WEEK: dates of the flight \n",
        "AIRLINE: An identification number assigned by US DOT to identify a unique airline \n",
        "\n",
        "ORIGIN_AIRPORT and DESTINATION_AIRPORT: code attributed by IATA to identify the airports \n",
        "\n",
        "SCHEDULED_DEPARTURE and SCHEDULED_ARRIVAL : scheduled times of take-off and landing \n",
        "\n",
        "DEPARTURE_TIME and ARRIVAL_TIME: real times at which take-off and landing took place \n",
        "\n",
        "DEPARTURE_DELAY and ARRIVAL_DELAY: difference (in minutes) between planned and real times \n",
        "\n",
        "DISTANCE: distance (in miles) \n",
        "\n",
        "An additional file of this dataset, the airports.csv file, gives a more exhaustive description of the airports:"
      ]
    },
    {
      "cell_type": "code",
      "metadata": {
        "id": "y4nVxAgOG5YX",
        "colab_type": "code",
        "colab": {
          "base_uri": "https://localhost:8080/",
          "height": 202
        },
        "outputId": "37ba6aa3-2c39-4dd8-9662-3d9e661160ef"
      },
      "source": [
        "airlines_df.head()"
      ],
      "execution_count": 17,
      "outputs": [
        {
          "output_type": "execute_result",
          "data": {
            "text/html": [
              "<div>\n",
              "<style scoped>\n",
              "    .dataframe tbody tr th:only-of-type {\n",
              "        vertical-align: middle;\n",
              "    }\n",
              "\n",
              "    .dataframe tbody tr th {\n",
              "        vertical-align: top;\n",
              "    }\n",
              "\n",
              "    .dataframe thead th {\n",
              "        text-align: right;\n",
              "    }\n",
              "</style>\n",
              "<table border=\"1\" class=\"dataframe\">\n",
              "  <thead>\n",
              "    <tr style=\"text-align: left;\">\n",
              "      <th></th>\n",
              "      <th>IATA_CODE</th>\n",
              "      <th>AIRLINE</th>\n",
              "    </tr>\n",
              "  </thead>\n",
              "  <tbody>\n",
              "    <tr>\n",
              "      <th>0</th>\n",
              "      <td>UA</td>\n",
              "      <td>United Air Lines Inc.</td>\n",
              "    </tr>\n",
              "    <tr>\n",
              "      <th>1</th>\n",
              "      <td>AA</td>\n",
              "      <td>American Airlines Inc.</td>\n",
              "    </tr>\n",
              "    <tr>\n",
              "      <th>2</th>\n",
              "      <td>US</td>\n",
              "      <td>US Airways Inc.</td>\n",
              "    </tr>\n",
              "    <tr>\n",
              "      <th>3</th>\n",
              "      <td>F9</td>\n",
              "      <td>Frontier Airlines Inc.</td>\n",
              "    </tr>\n",
              "    <tr>\n",
              "      <th>4</th>\n",
              "      <td>B6</td>\n",
              "      <td>JetBlue Airways</td>\n",
              "    </tr>\n",
              "  </tbody>\n",
              "</table>\n",
              "</div>"
            ],
            "text/plain": [
              "  IATA_CODE AIRLINE                \n",
              "0  UA        United Air Lines Inc. \n",
              "1  AA        American Airlines Inc.\n",
              "2  US        US Airways Inc.       \n",
              "3  F9        Frontier Airlines Inc.\n",
              "4  B6        JetBlue Airways       "
            ]
          },
          "metadata": {
            "tags": []
          },
          "execution_count": 17
        }
      ]
    },
    {
      "cell_type": "code",
      "metadata": {
        "id": "xM1xKqhUDlPf",
        "colab_type": "code",
        "colab": {
          "base_uri": "https://localhost:8080/",
          "height": 35
        },
        "outputId": "60433272-2932-4f96-af7a-83974145bad7"
      },
      "source": [
        "print (\"The shape of airlines dataset is\", airlines_df.shape)"
      ],
      "execution_count": 18,
      "outputs": [
        {
          "output_type": "stream",
          "text": [
            "The shape of airlines dataset is (14, 2)\n"
          ],
          "name": "stdout"
        }
      ]
    },
    {
      "cell_type": "code",
      "metadata": {
        "id": "JukRuIlcD1ee",
        "colab_type": "code",
        "colab": {
          "base_uri": "https://localhost:8080/",
          "height": 139
        },
        "outputId": "fca7014d-2980-4345-bd4f-1548844d25a3"
      },
      "source": [
        "airlines_df.info()"
      ],
      "execution_count": 19,
      "outputs": [
        {
          "output_type": "stream",
          "text": [
            "<class 'pandas.core.frame.DataFrame'>\n",
            "RangeIndex: 14 entries, 0 to 13\n",
            "Data columns (total 2 columns):\n",
            "IATA_CODE    14 non-null object\n",
            "AIRLINE      14 non-null object\n",
            "dtypes: object(2)\n",
            "memory usage: 304.0+ bytes\n"
          ],
          "name": "stdout"
        }
      ]
    },
    {
      "cell_type": "code",
      "metadata": {
        "id": "FIZ39H6GG5b9",
        "colab_type": "code",
        "colab": {
          "base_uri": "https://localhost:8080/",
          "height": 202
        },
        "outputId": "d04135ce-07bb-4bc0-b5aa-a4f497ffa0eb"
      },
      "source": [
        "airports_df.head()"
      ],
      "execution_count": 20,
      "outputs": [
        {
          "output_type": "execute_result",
          "data": {
            "text/html": [
              "<div>\n",
              "<style scoped>\n",
              "    .dataframe tbody tr th:only-of-type {\n",
              "        vertical-align: middle;\n",
              "    }\n",
              "\n",
              "    .dataframe tbody tr th {\n",
              "        vertical-align: top;\n",
              "    }\n",
              "\n",
              "    .dataframe thead th {\n",
              "        text-align: right;\n",
              "    }\n",
              "</style>\n",
              "<table border=\"1\" class=\"dataframe\">\n",
              "  <thead>\n",
              "    <tr style=\"text-align: left;\">\n",
              "      <th></th>\n",
              "      <th>IATA_CODE</th>\n",
              "      <th>AIRPORT</th>\n",
              "      <th>CITY</th>\n",
              "      <th>STATE</th>\n",
              "      <th>COUNTRY</th>\n",
              "      <th>LATITUDE</th>\n",
              "      <th>LONGITUDE</th>\n",
              "    </tr>\n",
              "  </thead>\n",
              "  <tbody>\n",
              "    <tr>\n",
              "      <th>0</th>\n",
              "      <td>ABE</td>\n",
              "      <td>Lehigh Valley International Airport</td>\n",
              "      <td>Allentown</td>\n",
              "      <td>PA</td>\n",
              "      <td>USA</td>\n",
              "      <td>40.65236</td>\n",
              "      <td>-75.44040</td>\n",
              "    </tr>\n",
              "    <tr>\n",
              "      <th>1</th>\n",
              "      <td>ABI</td>\n",
              "      <td>Abilene Regional Airport</td>\n",
              "      <td>Abilene</td>\n",
              "      <td>TX</td>\n",
              "      <td>USA</td>\n",
              "      <td>32.41132</td>\n",
              "      <td>-99.68190</td>\n",
              "    </tr>\n",
              "    <tr>\n",
              "      <th>2</th>\n",
              "      <td>ABQ</td>\n",
              "      <td>Albuquerque International Sunport</td>\n",
              "      <td>Albuquerque</td>\n",
              "      <td>NM</td>\n",
              "      <td>USA</td>\n",
              "      <td>35.04022</td>\n",
              "      <td>-106.60919</td>\n",
              "    </tr>\n",
              "    <tr>\n",
              "      <th>3</th>\n",
              "      <td>ABR</td>\n",
              "      <td>Aberdeen Regional Airport</td>\n",
              "      <td>Aberdeen</td>\n",
              "      <td>SD</td>\n",
              "      <td>USA</td>\n",
              "      <td>45.44906</td>\n",
              "      <td>-98.42183</td>\n",
              "    </tr>\n",
              "    <tr>\n",
              "      <th>4</th>\n",
              "      <td>ABY</td>\n",
              "      <td>Southwest Georgia Regional Airport</td>\n",
              "      <td>Albany</td>\n",
              "      <td>GA</td>\n",
              "      <td>USA</td>\n",
              "      <td>31.53552</td>\n",
              "      <td>-84.19447</td>\n",
              "    </tr>\n",
              "  </tbody>\n",
              "</table>\n",
              "</div>"
            ],
            "text/plain": [
              "  IATA_CODE AIRPORT                              CITY         STATE COUNTRY  \\\n",
              "0  ABE       Lehigh Valley International Airport  Allentown    PA    USA      \n",
              "1  ABI       Abilene Regional Airport             Abilene      TX    USA      \n",
              "2  ABQ       Albuquerque International Sunport    Albuquerque  NM    USA      \n",
              "3  ABR       Aberdeen Regional Airport            Aberdeen     SD    USA      \n",
              "4  ABY       Southwest Georgia Regional Airport   Albany       GA    USA      \n",
              "\n",
              "   LATITUDE  LONGITUDE  \n",
              "0  40.65236 -75.44040   \n",
              "1  32.41132 -99.68190   \n",
              "2  35.04022 -106.60919  \n",
              "3  45.44906 -98.42183   \n",
              "4  31.53552 -84.19447   "
            ]
          },
          "metadata": {
            "tags": []
          },
          "execution_count": 20
        }
      ]
    },
    {
      "cell_type": "code",
      "metadata": {
        "id": "1saK9lILG5fK",
        "colab_type": "code",
        "colab": {
          "base_uri": "https://localhost:8080/",
          "height": 35
        },
        "outputId": "6cffc7b0-c106-4b6a-c69b-ab6debe4dfc4"
      },
      "source": [
        "print (\"The shape of airports dataset is\", airports_df.shape)"
      ],
      "execution_count": 21,
      "outputs": [
        {
          "output_type": "stream",
          "text": [
            "The shape of airports dataset is (322, 7)\n"
          ],
          "name": "stdout"
        }
      ]
    },
    {
      "cell_type": "code",
      "metadata": {
        "id": "UCVGFqAIG5i5",
        "colab_type": "code",
        "colab": {
          "base_uri": "https://localhost:8080/",
          "height": 225
        },
        "outputId": "a795ee8e-78d5-4555-8175-72c13fe7a71e"
      },
      "source": [
        "airports_df.info()"
      ],
      "execution_count": 22,
      "outputs": [
        {
          "output_type": "stream",
          "text": [
            "<class 'pandas.core.frame.DataFrame'>\n",
            "RangeIndex: 322 entries, 0 to 321\n",
            "Data columns (total 7 columns):\n",
            "IATA_CODE    322 non-null object\n",
            "AIRPORT      322 non-null object\n",
            "CITY         322 non-null object\n",
            "STATE        322 non-null object\n",
            "COUNTRY      322 non-null object\n",
            "LATITUDE     319 non-null float64\n",
            "LONGITUDE    319 non-null float64\n",
            "dtypes: float64(2), object(5)\n",
            "memory usage: 17.7+ KB\n"
          ],
          "name": "stdout"
        }
      ]
    },
    {
      "cell_type": "code",
      "metadata": {
        "id": "jr_dvgjCNP99",
        "colab_type": "code",
        "colab": {
          "base_uri": "https://localhost:8080/",
          "height": 999
        },
        "outputId": "13fada4b-ba50-4ea7-8345-ffe7e9ed27b9"
      },
      "source": [
        "missing_df = flights_df.isnull().sum(axis=0).reset_index()\n",
        "missing_df.columns = ['variable', 'missing values']\n",
        "missing_df['filling factor (%)']=(flights_df.shape[0]-missing_df['missing values'])/flights_df.shape[0]*100\n",
        "missing_df.sort_values('filling factor (%)').reset_index(drop = True)"
      ],
      "execution_count": 23,
      "outputs": [
        {
          "output_type": "execute_result",
          "data": {
            "text/html": [
              "<div>\n",
              "<style scoped>\n",
              "    .dataframe tbody tr th:only-of-type {\n",
              "        vertical-align: middle;\n",
              "    }\n",
              "\n",
              "    .dataframe tbody tr th {\n",
              "        vertical-align: top;\n",
              "    }\n",
              "\n",
              "    .dataframe thead th {\n",
              "        text-align: right;\n",
              "    }\n",
              "</style>\n",
              "<table border=\"1\" class=\"dataframe\">\n",
              "  <thead>\n",
              "    <tr style=\"text-align: left;\">\n",
              "      <th></th>\n",
              "      <th>variable</th>\n",
              "      <th>missing values</th>\n",
              "      <th>filling factor (%)</th>\n",
              "    </tr>\n",
              "  </thead>\n",
              "  <tbody>\n",
              "    <tr>\n",
              "      <th>0</th>\n",
              "      <td>CANCELLATION_REASON</td>\n",
              "      <td>5729195</td>\n",
              "      <td>1.54464</td>\n",
              "    </tr>\n",
              "    <tr>\n",
              "      <th>1</th>\n",
              "      <td>WEATHER_DELAY</td>\n",
              "      <td>4755640</td>\n",
              "      <td>18.27504</td>\n",
              "    </tr>\n",
              "    <tr>\n",
              "      <th>2</th>\n",
              "      <td>AIRLINE_DELAY</td>\n",
              "      <td>4755640</td>\n",
              "      <td>18.27504</td>\n",
              "    </tr>\n",
              "    <tr>\n",
              "      <th>3</th>\n",
              "      <td>SECURITY_DELAY</td>\n",
              "      <td>4755640</td>\n",
              "      <td>18.27504</td>\n",
              "    </tr>\n",
              "    <tr>\n",
              "      <th>4</th>\n",
              "      <td>AIR_SYSTEM_DELAY</td>\n",
              "      <td>4755640</td>\n",
              "      <td>18.27504</td>\n",
              "    </tr>\n",
              "    <tr>\n",
              "      <th>5</th>\n",
              "      <td>LATE_AIRCRAFT_DELAY</td>\n",
              "      <td>4755640</td>\n",
              "      <td>18.27504</td>\n",
              "    </tr>\n",
              "    <tr>\n",
              "      <th>6</th>\n",
              "      <td>ARRIVAL_DELAY</td>\n",
              "      <td>105071</td>\n",
              "      <td>98.19437</td>\n",
              "    </tr>\n",
              "    <tr>\n",
              "      <th>7</th>\n",
              "      <td>AIR_TIME</td>\n",
              "      <td>105071</td>\n",
              "      <td>98.19437</td>\n",
              "    </tr>\n",
              "    <tr>\n",
              "      <th>8</th>\n",
              "      <td>ELAPSED_TIME</td>\n",
              "      <td>105071</td>\n",
              "      <td>98.19437</td>\n",
              "    </tr>\n",
              "    <tr>\n",
              "      <th>9</th>\n",
              "      <td>TAXI_IN</td>\n",
              "      <td>92513</td>\n",
              "      <td>98.41018</td>\n",
              "    </tr>\n",
              "    <tr>\n",
              "      <th>10</th>\n",
              "      <td>WHEELS_ON</td>\n",
              "      <td>92513</td>\n",
              "      <td>98.41018</td>\n",
              "    </tr>\n",
              "    <tr>\n",
              "      <th>11</th>\n",
              "      <td>ARRIVAL_TIME</td>\n",
              "      <td>92513</td>\n",
              "      <td>98.41018</td>\n",
              "    </tr>\n",
              "    <tr>\n",
              "      <th>12</th>\n",
              "      <td>TAXI_OUT</td>\n",
              "      <td>89047</td>\n",
              "      <td>98.46974</td>\n",
              "    </tr>\n",
              "    <tr>\n",
              "      <th>13</th>\n",
              "      <td>WHEELS_OFF</td>\n",
              "      <td>89047</td>\n",
              "      <td>98.46974</td>\n",
              "    </tr>\n",
              "    <tr>\n",
              "      <th>14</th>\n",
              "      <td>DEPARTURE_TIME</td>\n",
              "      <td>86153</td>\n",
              "      <td>98.51947</td>\n",
              "    </tr>\n",
              "    <tr>\n",
              "      <th>15</th>\n",
              "      <td>DEPARTURE_DELAY</td>\n",
              "      <td>86153</td>\n",
              "      <td>98.51947</td>\n",
              "    </tr>\n",
              "    <tr>\n",
              "      <th>16</th>\n",
              "      <td>TAIL_NUMBER</td>\n",
              "      <td>14721</td>\n",
              "      <td>99.74702</td>\n",
              "    </tr>\n",
              "    <tr>\n",
              "      <th>17</th>\n",
              "      <td>SCHEDULED_TIME</td>\n",
              "      <td>6</td>\n",
              "      <td>99.99990</td>\n",
              "    </tr>\n",
              "    <tr>\n",
              "      <th>18</th>\n",
              "      <td>MONTH</td>\n",
              "      <td>0</td>\n",
              "      <td>100.00000</td>\n",
              "    </tr>\n",
              "    <tr>\n",
              "      <th>19</th>\n",
              "      <td>DAY</td>\n",
              "      <td>0</td>\n",
              "      <td>100.00000</td>\n",
              "    </tr>\n",
              "    <tr>\n",
              "      <th>20</th>\n",
              "      <td>DAY_OF_WEEK</td>\n",
              "      <td>0</td>\n",
              "      <td>100.00000</td>\n",
              "    </tr>\n",
              "    <tr>\n",
              "      <th>21</th>\n",
              "      <td>AIRLINE</td>\n",
              "      <td>0</td>\n",
              "      <td>100.00000</td>\n",
              "    </tr>\n",
              "    <tr>\n",
              "      <th>22</th>\n",
              "      <td>CANCELLED</td>\n",
              "      <td>0</td>\n",
              "      <td>100.00000</td>\n",
              "    </tr>\n",
              "    <tr>\n",
              "      <th>23</th>\n",
              "      <td>SCHEDULED_DEPARTURE</td>\n",
              "      <td>0</td>\n",
              "      <td>100.00000</td>\n",
              "    </tr>\n",
              "    <tr>\n",
              "      <th>24</th>\n",
              "      <td>FLIGHT_NUMBER</td>\n",
              "      <td>0</td>\n",
              "      <td>100.00000</td>\n",
              "    </tr>\n",
              "    <tr>\n",
              "      <th>25</th>\n",
              "      <td>SCHEDULED_ARRIVAL</td>\n",
              "      <td>0</td>\n",
              "      <td>100.00000</td>\n",
              "    </tr>\n",
              "    <tr>\n",
              "      <th>26</th>\n",
              "      <td>DESTINATION_AIRPORT</td>\n",
              "      <td>0</td>\n",
              "      <td>100.00000</td>\n",
              "    </tr>\n",
              "    <tr>\n",
              "      <th>27</th>\n",
              "      <td>DISTANCE</td>\n",
              "      <td>0</td>\n",
              "      <td>100.00000</td>\n",
              "    </tr>\n",
              "    <tr>\n",
              "      <th>28</th>\n",
              "      <td>ORIGIN_AIRPORT</td>\n",
              "      <td>0</td>\n",
              "      <td>100.00000</td>\n",
              "    </tr>\n",
              "    <tr>\n",
              "      <th>29</th>\n",
              "      <td>DIVERTED</td>\n",
              "      <td>0</td>\n",
              "      <td>100.00000</td>\n",
              "    </tr>\n",
              "    <tr>\n",
              "      <th>30</th>\n",
              "      <td>YEAR</td>\n",
              "      <td>0</td>\n",
              "      <td>100.00000</td>\n",
              "    </tr>\n",
              "  </tbody>\n",
              "</table>\n",
              "</div>"
            ],
            "text/plain": [
              "   variable              missing values  filling factor (%)\n",
              "0   CANCELLATION_REASON  5729195         1.54464           \n",
              "1   WEATHER_DELAY        4755640         18.27504          \n",
              "2   AIRLINE_DELAY        4755640         18.27504          \n",
              "3   SECURITY_DELAY       4755640         18.27504          \n",
              "4   AIR_SYSTEM_DELAY     4755640         18.27504          \n",
              "5   LATE_AIRCRAFT_DELAY  4755640         18.27504          \n",
              "6   ARRIVAL_DELAY        105071          98.19437          \n",
              "7   AIR_TIME             105071          98.19437          \n",
              "8   ELAPSED_TIME         105071          98.19437          \n",
              "9   TAXI_IN              92513           98.41018          \n",
              "10  WHEELS_ON            92513           98.41018          \n",
              "11  ARRIVAL_TIME         92513           98.41018          \n",
              "12  TAXI_OUT             89047           98.46974          \n",
              "13  WHEELS_OFF           89047           98.46974          \n",
              "14  DEPARTURE_TIME       86153           98.51947          \n",
              "15  DEPARTURE_DELAY      86153           98.51947          \n",
              "16  TAIL_NUMBER          14721           99.74702          \n",
              "17  SCHEDULED_TIME       6               99.99990          \n",
              "18  MONTH                0               100.00000         \n",
              "19  DAY                  0               100.00000         \n",
              "20  DAY_OF_WEEK          0               100.00000         \n",
              "21  AIRLINE              0               100.00000         \n",
              "22  CANCELLED            0               100.00000         \n",
              "23  SCHEDULED_DEPARTURE  0               100.00000         \n",
              "24  FLIGHT_NUMBER        0               100.00000         \n",
              "25  SCHEDULED_ARRIVAL    0               100.00000         \n",
              "26  DESTINATION_AIRPORT  0               100.00000         \n",
              "27  DISTANCE             0               100.00000         \n",
              "28  ORIGIN_AIRPORT       0               100.00000         \n",
              "29  DIVERTED             0               100.00000         \n",
              "30  YEAR                 0               100.00000         "
            ]
          },
          "metadata": {
            "tags": []
          },
          "execution_count": 23
        }
      ]
    },
    {
      "cell_type": "code",
      "metadata": {
        "id": "UBpm8zTlPeJf",
        "colab_type": "code",
        "colab": {
          "base_uri": "https://localhost:8080/",
          "height": 35
        },
        "outputId": "37db30a9-e87e-409b-9afa-3b2c60afc066"
      },
      "source": [
        "flights_df['YEAR'].unique()"
      ],
      "execution_count": 24,
      "outputs": [
        {
          "output_type": "execute_result",
          "data": {
            "text/plain": [
              "array([2015])"
            ]
          },
          "metadata": {
            "tags": []
          },
          "execution_count": 24
        }
      ]
    },
    {
      "cell_type": "code",
      "metadata": {
        "id": "3lvGDYGURpEk",
        "colab_type": "code",
        "colab": {
          "base_uri": "https://localhost:8080/",
          "height": 35
        },
        "outputId": "117f3747-3d55-41d6-9323-c62edf855da8"
      },
      "source": [
        "flights_df['CANCELLATION_REASON'].count()"
      ],
      "execution_count": 25,
      "outputs": [
        {
          "output_type": "execute_result",
          "data": {
            "text/plain": [
              "89884"
            ]
          },
          "metadata": {
            "tags": []
          },
          "execution_count": 25
        }
      ]
    },
    {
      "cell_type": "code",
      "metadata": {
        "id": "aSfg90eBTslZ",
        "colab_type": "code",
        "colab": {
          "base_uri": "https://localhost:8080/",
          "height": 572
        },
        "outputId": "3d637c08-ca4a-4368-e6aa-64b9f12da416"
      },
      "source": [
        "flights_df[flights_df['CANCELLED']== 1].count()"
      ],
      "execution_count": 26,
      "outputs": [
        {
          "output_type": "execute_result",
          "data": {
            "text/plain": [
              "YEAR                   89884\n",
              "MONTH                  89884\n",
              "DAY                    89884\n",
              "DAY_OF_WEEK            89884\n",
              "AIRLINE                89884\n",
              "FLIGHT_NUMBER          89884\n",
              "TAIL_NUMBER            75163\n",
              "ORIGIN_AIRPORT         89884\n",
              "DESTINATION_AIRPORT    89884\n",
              "SCHEDULED_DEPARTURE    89884\n",
              "DEPARTURE_TIME         3731 \n",
              "DEPARTURE_DELAY        3731 \n",
              "TAXI_OUT               837  \n",
              "WHEELS_OFF             837  \n",
              "SCHEDULED_TIME         89879\n",
              "ELAPSED_TIME           0    \n",
              "AIR_TIME               0    \n",
              "DISTANCE               89884\n",
              "WHEELS_ON              0    \n",
              "TAXI_IN                0    \n",
              "SCHEDULED_ARRIVAL      89884\n",
              "ARRIVAL_TIME           0    \n",
              "ARRIVAL_DELAY          0    \n",
              "DIVERTED               89884\n",
              "CANCELLED              89884\n",
              "CANCELLATION_REASON    89884\n",
              "AIR_SYSTEM_DELAY       0    \n",
              "SECURITY_DELAY         0    \n",
              "AIRLINE_DELAY          0    \n",
              "LATE_AIRCRAFT_DELAY    0    \n",
              "WEATHER_DELAY          0    \n",
              "dtype: int64"
            ]
          },
          "metadata": {
            "tags": []
          },
          "execution_count": 26
        }
      ]
    },
    {
      "cell_type": "markdown",
      "metadata": {
        "id": "pewo8tBxZ8n_",
        "colab_type": "text"
      },
      "source": [
        ""
      ]
    },
    {
      "cell_type": "code",
      "metadata": {
        "id": "lVYXu4e7SOU-",
        "colab_type": "code",
        "colab": {
          "base_uri": "https://localhost:8080/",
          "height": 572
        },
        "outputId": "2c008f8a-fabf-4738-b295-cf750a4cd98a"
      },
      "source": [
        "flights_df[flights_df['ARRIVAL_DELAY'] > 15].count()"
      ],
      "execution_count": 27,
      "outputs": [
        {
          "output_type": "execute_result",
          "data": {
            "text/plain": [
              "YEAR                   1023498\n",
              "MONTH                  1023498\n",
              "DAY                    1023498\n",
              "DAY_OF_WEEK            1023498\n",
              "AIRLINE                1023498\n",
              "FLIGHT_NUMBER          1023498\n",
              "TAIL_NUMBER            1023498\n",
              "ORIGIN_AIRPORT         1023498\n",
              "DESTINATION_AIRPORT    1023498\n",
              "SCHEDULED_DEPARTURE    1023498\n",
              "DEPARTURE_TIME         1023498\n",
              "DEPARTURE_DELAY        1023498\n",
              "TAXI_OUT               1023498\n",
              "WHEELS_OFF             1023498\n",
              "SCHEDULED_TIME         1023498\n",
              "ELAPSED_TIME           1023498\n",
              "AIR_TIME               1023498\n",
              "DISTANCE               1023498\n",
              "WHEELS_ON              1023498\n",
              "TAXI_IN                1023498\n",
              "SCHEDULED_ARRIVAL      1023498\n",
              "ARRIVAL_TIME           1023498\n",
              "ARRIVAL_DELAY          1023498\n",
              "DIVERTED               1023498\n",
              "CANCELLED              1023498\n",
              "CANCELLATION_REASON    0      \n",
              "AIR_SYSTEM_DELAY       1023498\n",
              "SECURITY_DELAY         1023498\n",
              "AIRLINE_DELAY          1023498\n",
              "LATE_AIRCRAFT_DELAY    1023498\n",
              "WEATHER_DELAY          1023498\n",
              "dtype: int64"
            ]
          },
          "metadata": {
            "tags": []
          },
          "execution_count": 27
        }
      ]
    },
    {
      "cell_type": "code",
      "metadata": {
        "id": "8fvS_UxHTeD7",
        "colab_type": "code",
        "colab": {
          "base_uri": "https://localhost:8080/",
          "height": 52
        },
        "outputId": "aea9038f-a37e-450f-8ef8-91e3cd7c9dd2"
      },
      "source": [
        "flights_df['AIRLINE'].unique()"
      ],
      "execution_count": 28,
      "outputs": [
        {
          "output_type": "execute_result",
          "data": {
            "text/plain": [
              "array(['AS', 'AA', 'US', 'DL', 'NK', 'UA', 'HA', 'B6', 'OO', 'EV', 'MQ',\n",
              "       'F9', 'WN', 'VX'], dtype=object)"
            ]
          },
          "metadata": {
            "tags": []
          },
          "execution_count": 28
        }
      ]
    },
    {
      "cell_type": "code",
      "metadata": {
        "id": "t0UGPuv_l-Ta",
        "colab_type": "code",
        "colab": {
          "base_uri": "https://localhost:8080/",
          "height": 1000
        },
        "outputId": "1fcb0000-485c-4f6b-a9d1-393d7032120d"
      },
      "source": [
        "flights_df['DESTINATION_AIRPORT'].unique()"
      ],
      "execution_count": 29,
      "outputs": [
        {
          "output_type": "execute_result",
          "data": {
            "text/plain": [
              "array(['SEA', 'PBI', 'CLT', 'MIA', 'ANC', 'MSP', 'DFW', 'ATL', 'IAH',\n",
              "       'PDX', 'MCI', 'FLL', 'ORD', 'HNL', 'PHX', 'EWR', 'JFK', 'MCO',\n",
              "       'BOS', 'BDL', 'ITO', 'SFO', 'KOA', 'OGG', 'MYR', 'DTW', 'LIH',\n",
              "       'DEN', 'SJU', 'LAX', 'BWI', 'IAD', 'BQN', 'BUF', 'LGA', 'HOU',\n",
              "       'SLC', 'PHL', 'SJC', 'OAK', 'LGB', 'TPA', 'DCA', 'TTN', 'BTR',\n",
              "       'LAS', 'RSW', 'BRD', 'STL', 'RKS', 'MBS', 'SNA', 'MEI', 'MDW',\n",
              "       'SAN', 'RIC', 'AUS', 'OTZ', 'PIT', 'JAX', 'MSY', 'ONT', 'PSP',\n",
              "       'BUR', 'DAL', 'CVG', 'SMF', 'RDU', 'JMS', 'BNA', 'DSM', 'MAF',\n",
              "       'BOI', 'ELP', 'TUS', 'SCC', 'HPN', 'STT', 'MDT', 'RHI', 'SBP',\n",
              "       'MKE', 'JNU', 'CMH', 'CLD', 'KTN', 'CAK', 'CRP', 'CLE', 'GPT',\n",
              "       'SHV', 'TYS', 'IND', 'LIT', 'SAT', 'SRQ', 'TUL', 'GRK', 'PNS',\n",
              "       'BTV', 'CHS', 'DAY', 'OKC', 'SAV', 'XNA', 'COS', 'GJT', 'BZN',\n",
              "       'PUB', 'HRL', 'HDN', 'MEM', 'GEG', 'ORH', 'SYR', 'GSO', 'VPS',\n",
              "       'LAW', 'ACY', 'LBB', 'JAC', 'BIL', 'EUG', 'ASE', 'TVC', 'MTJ',\n",
              "       'CAE', 'PVD', 'HSV', 'CDC', 'YUM', 'ABQ', 'TLH', 'MLI', 'AMA',\n",
              "       'EGE', 'MOB', 'JAN', 'FWA', 'MSN', 'BIS', 'MFR', 'APN', 'BHM',\n",
              "       'OMA', 'LFT', 'GRR', 'MMH', 'CEC', 'SBA', 'RNO', 'CLL', 'LEX',\n",
              "       'LAN', 'DLH', 'SDF', 'FAT', 'SPS', 'SGF', 'CID', 'FSM', 'MGM',\n",
              "       'MFE', 'AVP', 'SJT', 'ROA', 'LRD', 'MRY', 'AGS', 'ROC', 'AEX',\n",
              "       'ISN', 'MLB', 'ORF', 'ICT', 'ECP', 'PIA', 'BPT', 'ACT', 'EYW',\n",
              "       'FSD', 'MLU', 'CHA', 'WRG', 'FNT', 'DIK', 'MHK', 'CNY', 'BRW',\n",
              "       'GRB', 'ATW', 'SAF', 'TYR', 'MKG', 'FLG', 'FCA', 'BTM', 'EVV',\n",
              "       'DRO', 'LNK', 'DBQ', 'FAR', 'OME', 'GSP', 'GUC', 'MSO', 'TXK',\n",
              "       'MOT', 'RAP', 'ISP', 'PWM', 'GGG', 'SBN', 'BFL', 'MHT', 'ROW',\n",
              "       'SIT', 'CMX', 'FAY', 'ILM', 'CMI', 'ALB', 'ABI', 'GTF', 'BMI',\n",
              "       'COU', 'HOB', 'GNV', 'SUN', 'SPI', 'PSG', 'BRO', 'AVL', 'TOL',\n",
              "       'SGU', 'GCC', 'HLN', 'CPR', 'PIH', 'BET', 'VEL', 'RDM', 'HYS',\n",
              "       'PSC', 'COD', 'INL', 'FAI', 'EKO', 'BJI', 'IDA', 'IMT', 'RST',\n",
              "       'HIB', 'ABR', 'STC', 'ACV', 'ESC', 'CIU', 'SWF', 'DAB', 'TRI',\n",
              "       'AZO', 'CRW', 'STX', 'GRI', 'CHO', 'GCK', 'PLN', 'LSE', 'SMX',\n",
              "       'RDD', 'PHF', 'LCH', 'GTR', 'LAR', 'ERI', 'PAH', 'EAU', 'LBE',\n",
              "       'BLI', 'DVL', 'CWA', 'ILG', 'OAJ', 'ABE', 'ALO', 'ABY', 'DHN',\n",
              "       'TWF', 'ADK', 'ELM', 'VLD', 'PIB', 'SUX', 'GUM', 'SCE', 'UST',\n",
              "       'BQK', 'JLN', 'LWS', 'MQT', 'EWN', 'CSG', 'PBG', 'PSE', 'IAG',\n",
              "       'YAK', 'CDV', 'OTH', 'ADQ', 'PPG', 'GFK', 'BGM', 'BGR', 'ITH',\n",
              "       'ACK', 'MVY', 'WYS', 'DLG', 'AKN', 'GST', 'HYA', '11298', '13487',\n",
              "       '13303', '11057', '13930', '10693', '14747', '12266', '12478',\n",
              "       '14057', '10397', '13198', '12173', '11618', '13204', '12402',\n",
              "       '12758', '14771', '11292', '13830', '14107', '12982', '11697',\n",
              "       '12519', '13577', '14869', '12339', '13232', '11259', '15016',\n",
              "       '12892', '12889', '10140', '10721', '15304', '14679', '14100',\n",
              "       '10732', '10821', '14831', '14843', '14570', '12191', '11433',\n",
              "       '12264', '14893', '13796', '12953', '14122', '13495', '12451',\n",
              "       '11042', '11278', '14908', '13342', '13891', '10299', '12523',\n",
              "       '12954', '14520', '12129', '10713', '10431', '11066', '10994',\n",
              "       '10423', '10792', '14683', '10800', '10551', '11193', '14307',\n",
              "       '11540', '14635', '13851', '15376', '11884', '14492', '14027',\n",
              "       '13970', '13184', '13296', '10599', '11986', '14698', '11423',\n",
              "       '13244', '14574', '12992', '13241', '12217', '13871', '12197',\n",
              "       '11003', '15919', '14524', '14689', '10529', '14576', '11995',\n",
              "       '11267', '12819', '14633', '11996', '13256', '13158', '12448',\n",
              "       '10781', '13422', '16218', '15370', '10868', '14730', '13931',\n",
              "       '13485', '14986', '15024', '11823', '11721', '14685', '10257',\n",
              "       '12206', '12255', '12951', '14709', '14321', '12391', '14794',\n",
              "       '10874', '12278', '11638', '10372', '11122', '14457', '15096',\n",
              "       '12896', '11109', '10279', '11481', '15412', '14814', '11641',\n",
              "       '10980', '12945', '10990', '10157', '13076', '13230', '15295',\n",
              "       '10918', '13933', '11953', '10135', '14262', '11067', '13277',\n",
              "       '11603', '10561', '11612', '15624', '11977', '15380', '13367',\n",
              "       '14193', '10333', '11778', '11140', '14783', '10136', '14842',\n",
              "       '11049', '14696', '11695', '11637', '15401', '14674', '13061',\n",
              "       '10685', '11982', '10469', '11921', '14108', '11413', '12891',\n",
              "       '11905', '14960', '15411', '10155', '10747', '10728', '13290',\n",
              "       '13433', '10208', '11973', '15323', '10849', '13360', '13795',\n",
              "       '14952', '13377', '10408', '10627', '13344', '13476', '11775',\n",
              "       '10158', '11898', '13029', '15249', '11337', '12915', '15356',\n",
              "       '13264', '11252', '10185', '11624', '12323', '15841', '10785',\n",
              "       '11146', '14098', '10434', '12389', '15991', '11315', '11150',\n",
              "       '12884', '11537', '11274', '11076', '10754', '13873', 13930, 10599,\n",
              "       11697, 12266, 14492, 11298, 14869, 14683, 11278, 15016, 13244,\n",
              "       11433, 12951, 13931, 11259, 10423, 14893, 11721, 12191, 14107,\n",
              "       14122, 14679, 13796, 11292, 13232, 12339, 14771, 14908, 13204,\n",
              "       11540, 13303, 12889, 13487, 12953, 10721, 13198, 11057, 14100,\n",
              "       15304, 14828, 12982, 14057, 10136, 11193, 11042, 12173, 11618,\n",
              "       15412, 13495, 15370, 10397, 14814, 11308, 10685, 11982, 14747,\n",
              "       14831, 13851, 12892, 13296, 11638, 14321, 11884, 12992, 14027,\n",
              "       15919, 12007, 13830, 10731, 14685, 12884, 10135, 11996, 12478,\n",
              "       12217, 13485, 11973, 10792, 14730, 10800, 11986, 11481, 10821,\n",
              "       10140, 10299, 14842, 10980, 12197, 10990, 12945, 10781, 11995,\n",
              "       10257, 13891, 13158, 12264, 12758, 10279, 14588, 10185, 13377,\n",
              "       14524, 10693, 12206, 15376, 12451, 11066, 11603, 14689, 11003,\n",
              "       11267, 15607, 10994, 14635, 13342, 14576, 15096, 14986, 12278,\n",
              "       12448, 10146, 14262, 10713, 14307, 15024, 10157, 13422, 10874,\n",
              "       14570, 14843, 15070, 14193, 13486, 12003, 13127, 13264, 12177,\n",
              "       12441, 12523, 14794, 12094, 12156, 14113, 12280, 11641, 14489,\n",
              "       10849, 12896, 14256, 10561, 12954, 10620, 11097, 10779, 11122,\n",
              "       10631, 12888, 15389, 15041, 14252, 12343, 12129, 11648, 10154,\n",
              "       13577, 14457, 13076, 12898, 13029, 12389, 13871, 10529, 12402,\n",
              "       11637, 13256, 12335, 11865, 11775, 10551, 15249, 10747, 15624,\n",
              "       12391, 10208, 10926, 12819, 11423, 13367, 14952, 13277, 11980,\n",
              "       11977, 11778, 15411, 13964, 11953, 11630, 11049, 11013, 11587,\n",
              "       15380, 11823, 11252, 11111, 14698, 11624, 13795, 12915, 14108,\n",
              "       11695, 11612, 10627, 13360, 15027, 10469, 14696, 14574, 15323,\n",
              "       11203, 14633, 11337, 13241, 14098, 10408, 10155, 11146, 13061,\n",
              "       14905, 13433, 11471, 14783, 10785, 11140, 12511, 12323, 10868,\n",
              "       14960, 10431, 10268, 11447, 11067, 13290, 15048, 13541, 13476,\n",
              "       16218, 11150, 12891, 11921, 10141, 14150, 14006, 13184, 11537,\n",
              "       10434, 13230, 11617, 11525, 11898, 11109, 11867, 14711, 11577,\n",
              "       12016, 14520, 14487, 10739, 14109, 10165, 11413, 10158, 15356,\n",
              "       14709, 12255, 14543, 11274, 15841, 10577, 14674, 10170, 10333,\n",
              "       10728, 13970, 15295, 15401, 15991, 11905, 10918, 15497, 10754,\n",
              "       13344, 11503, 13459, 13873, 11315, 12519, 11076, 10581, 12265,\n",
              "       14254, 10732, 10372, 13933, 14222, 14025, 13502, '10146', '13486',\n",
              "       '12003', '13127', '12441', '12177', '12156', '14113', '14256',\n",
              "       '14489', '10620', '11097', '10779', '10631', '12888', '15389',\n",
              "       '15041', '14252', '12343', '12898', '11648', '12280', '12335',\n",
              "       '11865', '10731', '10926', '11980', '11630', '11013', '11587',\n",
              "       '11111', '13964', '15027', '11203', '15070', '14150', '11471',\n",
              "       '14905', '12511', '10268', '15048', '11447', '11577', '10141',\n",
              "       '11308', '11617', '11525', '11867', '12016', '10739', '14711',\n",
              "       '14006', '14109', '14487', '15607', '14543', '14588', '10577',\n",
              "       '10170', '12007', '14828', '14222', '13459', '13502', '14254',\n",
              "       '14025', '15497', '12265', '10581', '10666'], dtype=object)"
            ]
          },
          "metadata": {
            "tags": []
          },
          "execution_count": 29
        }
      ]
    },
    {
      "cell_type": "code",
      "metadata": {
        "id": "RovrU0qOmJmF",
        "colab_type": "code",
        "colab": {
          "base_uri": "https://localhost:8080/",
          "height": 173
        },
        "outputId": "3f5b9773-0d54-46c0-c318-9623c7ed04fb"
      },
      "source": [
        "flights_df['ARRIVAL_DELAY'].describe()"
      ],
      "execution_count": 30,
      "outputs": [
        {
          "output_type": "execute_result",
          "data": {
            "text/plain": [
              "count    5.71401e+06\n",
              "mean     4.40706e+00\n",
              "std      3.92713e+01\n",
              "min     -8.70000e+01\n",
              "25%     -1.30000e+01\n",
              "50%     -5.00000e+00\n",
              "75%      8.00000e+00\n",
              "max      1.97100e+03\n",
              "Name: ARRIVAL_DELAY, dtype: float64"
            ]
          },
          "metadata": {
            "tags": []
          },
          "execution_count": 30
        }
      ]
    },
    {
      "cell_type": "code",
      "metadata": {
        "id": "8jJwElNWmsQy",
        "colab_type": "code",
        "colab": {}
      },
      "source": [
        ""
      ],
      "execution_count": 0,
      "outputs": []
    },
    {
      "cell_type": "markdown",
      "metadata": {
        "id": "1vMkrudUndbC",
        "colab_type": "text"
      },
      "source": [
        "**'ARRIVAL_DELAY' The Target**"
      ]
    },
    {
      "cell_type": "code",
      "metadata": {
        "id": "tRod2KbVnlDQ",
        "colab_type": "code",
        "colab": {
          "base_uri": "https://localhost:8080/",
          "height": 69
        },
        "outputId": "ce6d0cf2-c9a9-4c59-bfcf-aff8b245cdb8"
      },
      "source": [
        "delayed_flights_df = flights_df[flights_df['ARRIVAL_DELAY']>0]\n",
        "print(\"The percentage of planes late in 2015 is %.2f\"%(delayed_flights_df.shape[0]*100/flights_df.shape[0]))\n",
        "ontime_flights_df = flights_df[flights_df['ARRIVAL_DELAY']==0]\n",
        "print(\"The percentage of planes right on time in 2015 is %.2f\"%(ontime_flights_df.shape[0]*100/flights_df.shape[0]))\n",
        "advance_flights_df = flights_df[flights_df['ARRIVAL_DELAY']<0]\n",
        "print(\"The percentage of planes that arrived ahead of time in 2015 is %.2f\"%(advance_flights_df.shape[0]*100/flights_df.shape[0]))"
      ],
      "execution_count": 31,
      "outputs": [
        {
          "output_type": "stream",
          "text": [
            "The percentage of planes late in 2015 is 35.86\n",
            "The percentage of planes right on time in 2015 is 2.17\n",
            "The percentage of planes that arrived ahead of time in 2015 is 60.16\n"
          ],
          "name": "stdout"
        }
      ]
    },
    {
      "cell_type": "code",
      "metadata": {
        "id": "4miX9N5rpbd5",
        "colab_type": "code",
        "colab": {
          "base_uri": "https://localhost:8080/",
          "height": 35
        },
        "outputId": "779e5f38-6201-4aed-b38f-6a25c4a2153c"
      },
      "source": [
        "more_15min_flights_df = flights_df[flights_df['ARRIVAL_DELAY']>15]\n",
        "print(\"The percentage of planes that arrived more than 15 minutes late in 2015 is %.2f\"%(more_15min_flights_df.shape[0]*100/flights_df.shape[0]))"
      ],
      "execution_count": 32,
      "outputs": [
        {
          "output_type": "stream",
          "text": [
            "The percentage of planes that arrived more than 15 minutes late in 2015 is 17.59\n"
          ],
          "name": "stdout"
        }
      ]
    },
    {
      "cell_type": "code",
      "metadata": {
        "id": "gTw2z_ohqPYu",
        "colab_type": "code",
        "colab": {
          "base_uri": "https://localhost:8080/",
          "height": 35
        },
        "outputId": "8481ad6c-c8c6-4c56-a6b3-3fa1adae32b4"
      },
      "source": [
        "more_15min_flights_df.shape"
      ],
      "execution_count": 33,
      "outputs": [
        {
          "output_type": "execute_result",
          "data": {
            "text/plain": [
              "(1023498, 31)"
            ]
          },
          "metadata": {
            "tags": []
          },
          "execution_count": 33
        }
      ]
    },
    {
      "cell_type": "code",
      "metadata": {
        "id": "09hlV8lXL0dy",
        "colab_type": "code",
        "colab": {
          "base_uri": "https://localhost:8080/",
          "height": 294
        },
        "outputId": "d4b17abe-dbbb-4991-9ee2-0e2e632d0237"
      },
      "source": [
        "flights_df.loc[:, ['ARRIVAL_DELAY']].describe()"
      ],
      "execution_count": 34,
      "outputs": [
        {
          "output_type": "execute_result",
          "data": {
            "text/html": [
              "<div>\n",
              "<style scoped>\n",
              "    .dataframe tbody tr th:only-of-type {\n",
              "        vertical-align: middle;\n",
              "    }\n",
              "\n",
              "    .dataframe tbody tr th {\n",
              "        vertical-align: top;\n",
              "    }\n",
              "\n",
              "    .dataframe thead th {\n",
              "        text-align: right;\n",
              "    }\n",
              "</style>\n",
              "<table border=\"1\" class=\"dataframe\">\n",
              "  <thead>\n",
              "    <tr style=\"text-align: left;\">\n",
              "      <th></th>\n",
              "      <th>ARRIVAL_DELAY</th>\n",
              "    </tr>\n",
              "  </thead>\n",
              "  <tbody>\n",
              "    <tr>\n",
              "      <th>count</th>\n",
              "      <td>5.71401e+06</td>\n",
              "    </tr>\n",
              "    <tr>\n",
              "      <th>mean</th>\n",
              "      <td>4.40706e+00</td>\n",
              "    </tr>\n",
              "    <tr>\n",
              "      <th>std</th>\n",
              "      <td>3.92713e+01</td>\n",
              "    </tr>\n",
              "    <tr>\n",
              "      <th>min</th>\n",
              "      <td>-8.70000e+01</td>\n",
              "    </tr>\n",
              "    <tr>\n",
              "      <th>25%</th>\n",
              "      <td>-1.30000e+01</td>\n",
              "    </tr>\n",
              "    <tr>\n",
              "      <th>50%</th>\n",
              "      <td>-5.00000e+00</td>\n",
              "    </tr>\n",
              "    <tr>\n",
              "      <th>75%</th>\n",
              "      <td>8.00000e+00</td>\n",
              "    </tr>\n",
              "    <tr>\n",
              "      <th>max</th>\n",
              "      <td>1.97100e+03</td>\n",
              "    </tr>\n",
              "  </tbody>\n",
              "</table>\n",
              "</div>"
            ],
            "text/plain": [
              "       ARRIVAL_DELAY\n",
              "count  5.71401e+06  \n",
              "mean   4.40706e+00  \n",
              "std    3.92713e+01  \n",
              "min   -8.70000e+01  \n",
              "25%   -1.30000e+01  \n",
              "50%   -5.00000e+00  \n",
              "75%    8.00000e+00  \n",
              "max    1.97100e+03  "
            ]
          },
          "metadata": {
            "tags": []
          },
          "execution_count": 34
        }
      ]
    },
    {
      "cell_type": "code",
      "metadata": {
        "id": "8Xq2mEfUK6NE",
        "colab_type": "code",
        "colab": {
          "base_uri": "https://localhost:8080/",
          "height": 302
        },
        "outputId": "778d4644-5c5a-4047-dfe8-d165065e3827"
      },
      "source": [
        "plt.boxplot(flights_df.loc[:, ['ARRIVAL_DELAY']].dropna().T, showfliers=False)\n",
        "plt.ylabel('minutes of delays')\n",
        "plt.title('Distribution of delays')"
      ],
      "execution_count": 35,
      "outputs": [
        {
          "output_type": "execute_result",
          "data": {
            "text/plain": [
              "Text(0.5, 1.0, 'Distribution of delays')"
            ]
          },
          "metadata": {
            "tags": []
          },
          "execution_count": 35
        },
        {
          "output_type": "display_data",
          "data": {
            "image/png": "[encoded data removed]",
            "text/plain": [
              "<Figure size 432x288 with 1 Axes>"
            ]
          },
          "metadata": {
            "tags": []
          }
        }
      ]
    },
    {
      "cell_type": "code",
      "metadata": {
        "id": "JKhicWK1RRo9",
        "colab_type": "code",
        "colab": {
          "base_uri": "https://localhost:8080/",
          "height": 173
        },
        "outputId": "2c86a381-b4a0-4b2d-c303-cfc607f9608c"
      },
      "source": [
        "flights_df.columns"
      ],
      "execution_count": 36,
      "outputs": [
        {
          "output_type": "execute_result",
          "data": {
            "text/plain": [
              "Index(['YEAR', 'MONTH', 'DAY', 'DAY_OF_WEEK', 'AIRLINE', 'FLIGHT_NUMBER',\n",
              "       'TAIL_NUMBER', 'ORIGIN_AIRPORT', 'DESTINATION_AIRPORT',\n",
              "       'SCHEDULED_DEPARTURE', 'DEPARTURE_TIME', 'DEPARTURE_DELAY', 'TAXI_OUT',\n",
              "       'WHEELS_OFF', 'SCHEDULED_TIME', 'ELAPSED_TIME', 'AIR_TIME', 'DISTANCE',\n",
              "       'WHEELS_ON', 'TAXI_IN', 'SCHEDULED_ARRIVAL', 'ARRIVAL_TIME',\n",
              "       'ARRIVAL_DELAY', 'DIVERTED', 'CANCELLED', 'CANCELLATION_REASON',\n",
              "       'AIR_SYSTEM_DELAY', 'SECURITY_DELAY', 'AIRLINE_DELAY',\n",
              "       'LATE_AIRCRAFT_DELAY', 'WEATHER_DELAY'],\n",
              "      dtype='object')"
            ]
          },
          "metadata": {
            "tags": []
          },
          "execution_count": 36
        }
      ]
    },
    {
      "cell_type": "markdown",
      "metadata": {
        "id": "7BQJtqnniB_z",
        "colab_type": "text"
      },
      "source": [
        "1. Categorical Features\n",
        "MONTH - Month of the Flight Trip\n",
        "DAY_OF_WEEK - Day of week of the Flight Trip\n",
        "AIRLINE - Airline Identifier\n",
        "   map to full airline name\n",
        "SCHEDULED_ARRIVAL - Planned Arrival Time\n",
        "  map into 4 categories: early morning, morning, afternoon, evening\n",
        "\n",
        "2. Numerical Features\n",
        "DEPARTURE_DELAY - Total Delay on Departure\n",
        "TAXI_OUT - The time duration elapsed between departure from the origin airport gate and wheels off\n",
        "WHEELS_OFF - The time point that the aircraft's wheels leave the ground\n",
        "SCHEDULED_TIME - Planned time amount needed for the flight trip\n",
        "DISTANCE - Distance between two airports\n",
        "\n",
        " 3. Target Feature\n",
        "ARRIVAL_DELAY - ARRIVAL_TIME-SCHEDULED_ARRIVAL\n",
        "   map to binary data\n",
        "               >= 15 min delay = 1\n",
        "               < 15 min delay = 0\n",
        "\n",
        "\n",
        "4. Filter out record if following columns == 1\n",
        "\n",
        "DIVERTED - Aircraft landed on airport that out of schedule\n",
        "CANCELLED - Flight Cancelled (1 = cancelled)"
      ]
    },
    {
      "cell_type": "code",
      "metadata": {
        "id": "R92svpVSjEXy",
        "colab_type": "code",
        "colab": {
          "base_uri": "https://localhost:8080/",
          "height": 485
        },
        "outputId": "ce67bb0f-c9bd-4b5b-cb46-76329daa10c4"
      },
      "source": [
        "corr_matrix = flights_df.corr()\n",
        "corr_matrix['ARRIVAL_DELAY'].sort_values(ascending=False)"
      ],
      "execution_count": 37,
      "outputs": [
        {
          "output_type": "execute_result",
          "data": {
            "text/plain": [
              "ARRIVAL_DELAY          1.00000\n",
              "DEPARTURE_DELAY        0.94467\n",
              "AIRLINE_DELAY          0.60935\n",
              "LATE_AIRCRAFT_DELAY    0.52201\n",
              "WEATHER_DELAY          0.26480\n",
              "AIR_SYSTEM_DELAY       0.24719\n",
              "TAXI_OUT               0.22732\n",
              "DEPARTURE_TIME         0.15979\n",
              "WHEELS_OFF             0.15577\n",
              "TAXI_IN                0.11663\n",
              "SCHEDULED_DEPARTURE    0.10022\n",
              "SCHEDULED_ARRIVAL      0.08882\n",
              "WHEELS_ON              0.05888\n",
              "ARRIVAL_TIME           0.04988\n",
              "ELAPSED_TIME           0.02912\n",
              "FLIGHT_NUMBER          0.01842\n",
              "SECURITY_DELAY         0.00965\n",
              "DAY                   -0.00310\n",
              "AIR_TIME              -0.00711\n",
              "DAY_OF_WEEK           -0.01703\n",
              "DISTANCE              -0.02544\n",
              "SCHEDULED_TIME        -0.03003\n",
              "MONTH                 -0.03679\n",
              "YEAR                  NaN     \n",
              "DIVERTED              NaN     \n",
              "CANCELLED             NaN     \n",
              "Name: ARRIVAL_DELAY, dtype: float64"
            ]
          },
          "metadata": {
            "tags": []
          },
          "execution_count": 37
        }
      ]
    },
    {
      "cell_type": "markdown",
      "metadata": {
        "id": "oydVBqtZ1X7r",
        "colab_type": "text"
      },
      "source": [
        "### Feature removal\n",
        "\n",
        "Drop features that don't provide any added value"
      ]
    },
    {
      "cell_type": "code",
      "metadata": {
        "id": "OSM6Bx-H18Ip",
        "colab_type": "code",
        "colab": {}
      },
      "source": [
        " final_flights_df = flights_df.drop(columns = ['YEAR', 'DAY', 'FLIGHT_NUMBER',\n",
        "       'TAIL_NUMBER', 'ORIGIN_AIRPORT', 'DESTINATION_AIRPORT',\n",
        "       'SCHEDULED_DEPARTURE', 'DEPARTURE_TIME',\n",
        "       'ELAPSED_TIME', 'AIR_TIME',\n",
        "       'WHEELS_ON', 'TAXI_IN', 'SCHEDULED_ARRIVAL', 'ARRIVAL_TIME',\n",
        "       'CANCELLATION_REASON',\n",
        "       'AIR_SYSTEM_DELAY', 'SECURITY_DELAY', 'AIRLINE_DELAY',\n",
        "       'LATE_AIRCRAFT_DELAY', 'WEATHER_DELAY'])"
      ],
      "execution_count": 0,
      "outputs": []
    },
    {
      "cell_type": "code",
      "metadata": {
        "id": "abWJHiCI1adI",
        "colab_type": "code",
        "colab": {
          "base_uri": "https://localhost:8080/",
          "height": 202
        },
        "outputId": "b991fceb-8fbe-4dae-d4a3-441592dc5da1"
      },
      "source": [
        "final_flights_df.head()"
      ],
      "execution_count": 39,
      "outputs": [
        {
          "output_type": "execute_result",
          "data": {
            "text/html": [
              "<div>\n",
              "<style scoped>\n",
              "    .dataframe tbody tr th:only-of-type {\n",
              "        vertical-align: middle;\n",
              "    }\n",
              "\n",
              "    .dataframe tbody tr th {\n",
              "        vertical-align: top;\n",
              "    }\n",
              "\n",
              "    .dataframe thead th {\n",
              "        text-align: right;\n",
              "    }\n",
              "</style>\n",
              "<table border=\"1\" class=\"dataframe\">\n",
              "  <thead>\n",
              "    <tr style=\"text-align: left;\">\n",
              "      <th></th>\n",
              "      <th>MONTH</th>\n",
              "      <th>DAY_OF_WEEK</th>\n",
              "      <th>AIRLINE</th>\n",
              "      <th>DEPARTURE_DELAY</th>\n",
              "      <th>TAXI_OUT</th>\n",
              "      <th>WHEELS_OFF</th>\n",
              "      <th>SCHEDULED_TIME</th>\n",
              "      <th>DISTANCE</th>\n",
              "      <th>ARRIVAL_DELAY</th>\n",
              "      <th>DIVERTED</th>\n",
              "      <th>CANCELLED</th>\n",
              "    </tr>\n",
              "  </thead>\n",
              "  <tbody>\n",
              "    <tr>\n",
              "      <th>0</th>\n",
              "      <td>1</td>\n",
              "      <td>4</td>\n",
              "      <td>AS</td>\n",
              "      <td>-11.0</td>\n",
              "      <td>21.0</td>\n",
              "      <td>15.0</td>\n",
              "      <td>205.0</td>\n",
              "      <td>1448</td>\n",
              "      <td>-22.0</td>\n",
              "      <td>0</td>\n",
              "      <td>0</td>\n",
              "    </tr>\n",
              "    <tr>\n",
              "      <th>1</th>\n",
              "      <td>1</td>\n",
              "      <td>4</td>\n",
              "      <td>AA</td>\n",
              "      <td>-8.0</td>\n",
              "      <td>12.0</td>\n",
              "      <td>14.0</td>\n",
              "      <td>280.0</td>\n",
              "      <td>2330</td>\n",
              "      <td>-9.0</td>\n",
              "      <td>0</td>\n",
              "      <td>0</td>\n",
              "    </tr>\n",
              "    <tr>\n",
              "      <th>2</th>\n",
              "      <td>1</td>\n",
              "      <td>4</td>\n",
              "      <td>US</td>\n",
              "      <td>-2.0</td>\n",
              "      <td>16.0</td>\n",
              "      <td>34.0</td>\n",
              "      <td>286.0</td>\n",
              "      <td>2296</td>\n",
              "      <td>5.0</td>\n",
              "      <td>0</td>\n",
              "      <td>0</td>\n",
              "    </tr>\n",
              "    <tr>\n",
              "      <th>3</th>\n",
              "      <td>1</td>\n",
              "      <td>4</td>\n",
              "      <td>AA</td>\n",
              "      <td>-5.0</td>\n",
              "      <td>15.0</td>\n",
              "      <td>30.0</td>\n",
              "      <td>285.0</td>\n",
              "      <td>2342</td>\n",
              "      <td>-9.0</td>\n",
              "      <td>0</td>\n",
              "      <td>0</td>\n",
              "    </tr>\n",
              "    <tr>\n",
              "      <th>4</th>\n",
              "      <td>1</td>\n",
              "      <td>4</td>\n",
              "      <td>AS</td>\n",
              "      <td>-1.0</td>\n",
              "      <td>11.0</td>\n",
              "      <td>35.0</td>\n",
              "      <td>235.0</td>\n",
              "      <td>1448</td>\n",
              "      <td>-21.0</td>\n",
              "      <td>0</td>\n",
              "      <td>0</td>\n",
              "    </tr>\n",
              "  </tbody>\n",
              "</table>\n",
              "</div>"
            ],
            "text/plain": [
              "   MONTH  DAY_OF_WEEK AIRLINE  DEPARTURE_DELAY  TAXI_OUT  WHEELS_OFF  \\\n",
              "0  1      4            AS     -11.0             21.0      15.0         \n",
              "1  1      4            AA     -8.0              12.0      14.0         \n",
              "2  1      4            US     -2.0              16.0      34.0         \n",
              "3  1      4            AA     -5.0              15.0      30.0         \n",
              "4  1      4            AS     -1.0              11.0      35.0         \n",
              "\n",
              "   SCHEDULED_TIME  DISTANCE  ARRIVAL_DELAY  DIVERTED  CANCELLED  \n",
              "0  205.0           1448     -22.0           0         0          \n",
              "1  280.0           2330     -9.0            0         0          \n",
              "2  286.0           2296      5.0            0         0          \n",
              "3  285.0           2342     -9.0            0         0          \n",
              "4  235.0           1448     -21.0           0         0          "
            ]
          },
          "metadata": {
            "tags": []
          },
          "execution_count": 39
        }
      ]
    },
    {
      "cell_type": "code",
      "metadata": {
        "id": "F-RwV4LS7ANg",
        "colab_type": "code",
        "colab": {}
      },
      "source": [
        "# We have to filtered out the diverted and cancelled flights\n",
        "\n",
        "final_flights_df = final_flights_df[final_flights_df['CANCELLED'] == 0]"
      ],
      "execution_count": 0,
      "outputs": []
    },
    {
      "cell_type": "code",
      "metadata": {
        "id": "HXvsK-7S9AEn",
        "colab_type": "code",
        "colab": {}
      },
      "source": [
        "final_flights_df = final_flights_df[final_flights_df['DIVERTED'] == 0]"
      ],
      "execution_count": 0,
      "outputs": []
    },
    {
      "cell_type": "code",
      "metadata": {
        "id": "i95xPO4B--rt",
        "colab_type": "code",
        "colab": {}
      },
      "source": [
        "final_flights_df.drop(columns = ['CANCELLED','DIVERTED'], inplace = True)"
      ],
      "execution_count": 0,
      "outputs": []
    },
    {
      "cell_type": "code",
      "metadata": {
        "id": "0JNKjF0r_rVE",
        "colab_type": "code",
        "colab": {
          "base_uri": "https://localhost:8080/",
          "height": 260
        },
        "outputId": "8c4a6c7d-1220-4381-92c3-ff29a7656f85"
      },
      "source": [
        "final_flights_df.info()"
      ],
      "execution_count": 43,
      "outputs": [
        {
          "output_type": "stream",
          "text": [
            "<class 'pandas.core.frame.DataFrame'>\n",
            "Int64Index: 5714008 entries, 0 to 5819078\n",
            "Data columns (total 9 columns):\n",
            "MONTH              int64\n",
            "DAY_OF_WEEK        int64\n",
            "AIRLINE            object\n",
            "DEPARTURE_DELAY    float64\n",
            "TAXI_OUT           float64\n",
            "WHEELS_OFF         float64\n",
            "SCHEDULED_TIME     float64\n",
            "DISTANCE           int64\n",
            "ARRIVAL_DELAY      float64\n",
            "dtypes: float64(5), int64(3), object(1)\n",
            "memory usage: 435.9+ MB\n"
          ],
          "name": "stdout"
        }
      ]
    },
    {
      "cell_type": "code",
      "metadata": {
        "id": "zliZWxbp_BYJ",
        "colab_type": "code",
        "colab": {
          "base_uri": "https://localhost:8080/",
          "height": 325
        },
        "outputId": "2461c503-7d6b-4141-fef9-6ec05465c3ca"
      },
      "source": [
        "missing = final_flights_df.isnull().sum(axis=0).reset_index()\n",
        "missing.columns = ['variable', 'missing values']\n",
        "missing"
      ],
      "execution_count": 44,
      "outputs": [
        {
          "output_type": "execute_result",
          "data": {
            "text/html": [
              "<div>\n",
              "<style scoped>\n",
              "    .dataframe tbody tr th:only-of-type {\n",
              "        vertical-align: middle;\n",
              "    }\n",
              "\n",
              "    .dataframe tbody tr th {\n",
              "        vertical-align: top;\n",
              "    }\n",
              "\n",
              "    .dataframe thead th {\n",
              "        text-align: right;\n",
              "    }\n",
              "</style>\n",
              "<table border=\"1\" class=\"dataframe\">\n",
              "  <thead>\n",
              "    <tr style=\"text-align: left;\">\n",
              "      <th></th>\n",
              "      <th>variable</th>\n",
              "      <th>missing values</th>\n",
              "    </tr>\n",
              "  </thead>\n",
              "  <tbody>\n",
              "    <tr>\n",
              "      <th>0</th>\n",
              "      <td>MONTH</td>\n",
              "      <td>0</td>\n",
              "    </tr>\n",
              "    <tr>\n",
              "      <th>1</th>\n",
              "      <td>DAY_OF_WEEK</td>\n",
              "      <td>0</td>\n",
              "    </tr>\n",
              "    <tr>\n",
              "      <th>2</th>\n",
              "      <td>AIRLINE</td>\n",
              "      <td>0</td>\n",
              "    </tr>\n",
              "    <tr>\n",
              "      <th>3</th>\n",
              "      <td>DEPARTURE_DELAY</td>\n",
              "      <td>0</td>\n",
              "    </tr>\n",
              "    <tr>\n",
              "      <th>4</th>\n",
              "      <td>TAXI_OUT</td>\n",
              "      <td>0</td>\n",
              "    </tr>\n",
              "    <tr>\n",
              "      <th>5</th>\n",
              "      <td>WHEELS_OFF</td>\n",
              "      <td>0</td>\n",
              "    </tr>\n",
              "    <tr>\n",
              "      <th>6</th>\n",
              "      <td>SCHEDULED_TIME</td>\n",
              "      <td>0</td>\n",
              "    </tr>\n",
              "    <tr>\n",
              "      <th>7</th>\n",
              "      <td>DISTANCE</td>\n",
              "      <td>0</td>\n",
              "    </tr>\n",
              "    <tr>\n",
              "      <th>8</th>\n",
              "      <td>ARRIVAL_DELAY</td>\n",
              "      <td>0</td>\n",
              "    </tr>\n",
              "  </tbody>\n",
              "</table>\n",
              "</div>"
            ],
            "text/plain": [
              "  variable          missing values\n",
              "0  MONTH            0             \n",
              "1  DAY_OF_WEEK      0             \n",
              "2  AIRLINE          0             \n",
              "3  DEPARTURE_DELAY  0             \n",
              "4  TAXI_OUT         0             \n",
              "5  WHEELS_OFF       0             \n",
              "6  SCHEDULED_TIME   0             \n",
              "7  DISTANCE         0             \n",
              "8  ARRIVAL_DELAY    0             "
            ]
          },
          "metadata": {
            "tags": []
          },
          "execution_count": 44
        }
      ]
    },
    {
      "cell_type": "markdown",
      "metadata": {
        "id": "SWOT_lDqEf93",
        "colab_type": "text"
      },
      "source": [
        "### Feature Conversion"
      ]
    },
    {
      "cell_type": "markdown",
      "metadata": {
        "id": "QWwhf3YzEdGY",
        "colab_type": "text"
      },
      "source": [
        "For further use, I put the content of this this dataframe in a dictionary:\n",
        "\n",
        "Categorical Features MONTH - Month of the Flight Trip DAY_OF_WEEK - Day of week of the Flight Trip AIRLINE - Airline Identifier map to full airline name SCHEDULED_ARRIVAL - Planned Arrival Time map into 4 categories: early morning, morning, afternoon, evening"
      ]
    },
    {
      "cell_type": "code",
      "metadata": {
        "id": "oP_NCACXE5_d",
        "colab_type": "code",
        "colab": {}
      },
      "source": [
        "airlines_names = airlines_df.set_index('IATA_CODE')['AIRLINE'].to_dict()"
      ],
      "execution_count": 0,
      "outputs": []
    },
    {
      "cell_type": "code",
      "metadata": {
        "id": "2DNnIY5aFFE4",
        "colab_type": "code",
        "colab": {
          "base_uri": "https://localhost:8080/",
          "height": 260
        },
        "outputId": "b20e9740-88a1-48bb-fc4f-e57167958ea4"
      },
      "source": [
        "airlines_names"
      ],
      "execution_count": 46,
      "outputs": [
        {
          "output_type": "execute_result",
          "data": {
            "text/plain": [
              "{'AA': 'American Airlines Inc.',\n",
              " 'AS': 'Alaska Airlines Inc.',\n",
              " 'B6': 'JetBlue Airways',\n",
              " 'DL': 'Delta Air Lines Inc.',\n",
              " 'EV': 'Atlantic Southeast Airlines',\n",
              " 'F9': 'Frontier Airlines Inc.',\n",
              " 'HA': 'Hawaiian Airlines Inc.',\n",
              " 'MQ': 'American Eagle Airlines Inc.',\n",
              " 'NK': 'Spirit Air Lines',\n",
              " 'OO': 'Skywest Airlines Inc.',\n",
              " 'UA': 'United Air Lines Inc.',\n",
              " 'US': 'US Airways Inc.',\n",
              " 'VX': 'Virgin America',\n",
              " 'WN': 'Southwest Airlines Co.'}"
            ]
          },
          "metadata": {
            "tags": []
          },
          "execution_count": 46
        }
      ]
    },
    {
      "cell_type": "code",
      "metadata": {
        "id": "Lak14aR1FK6C",
        "colab_type": "code",
        "colab": {
          "base_uri": "https://localhost:8080/",
          "height": 35
        },
        "outputId": "11716298-6c1e-4181-aeae-e750bd3a096d"
      },
      "source": [
        "final_flights_df[\"AIRLINE\"].replace(airlines_names, inplace = True)  \n",
        "final_flights_df['DAY_OF_WEEK'].unique()"
      ],
      "execution_count": 47,
      "outputs": [
        {
          "output_type": "execute_result",
          "data": {
            "text/plain": [
              "array([4, 5, 6, 7, 1, 2, 3])"
            ]
          },
          "metadata": {
            "tags": []
          },
          "execution_count": 47
        }
      ]
    },
    {
      "cell_type": "code",
      "metadata": {
        "id": "VAqOaswZIaEC",
        "colab_type": "code",
        "colab": {}
      },
      "source": [
        "week_day = {1 : 'Monday', 2 : 'Tuesday', 3 : 'Wednesday', 4 : 'Thursday', 5 : 'Friday', 6 : 'Saturday' , 7 : 'Sunday'}"
      ],
      "execution_count": 0,
      "outputs": []
    },
    {
      "cell_type": "code",
      "metadata": {
        "id": "x5lf31MbIgxS",
        "colab_type": "code",
        "colab": {}
      },
      "source": [
        "final_flights_df[\"DAY_OF_WEEK\"].replace(week_day, inplace = True)"
      ],
      "execution_count": 0,
      "outputs": []
    },
    {
      "cell_type": "code",
      "metadata": {
        "id": "RDVooGqZJ5k4",
        "colab_type": "code",
        "colab": {
          "base_uri": "https://localhost:8080/",
          "height": 52
        },
        "outputId": "44dccada-ca50-4232-898e-010a52bbef3b"
      },
      "source": [
        "final_flights_df[\"DAY_OF_WEEK\"].unique()"
      ],
      "execution_count": 50,
      "outputs": [
        {
          "output_type": "execute_result",
          "data": {
            "text/plain": [
              "array(['Thursday', 'Friday', 'Saturday', 'Sunday', 'Monday', 'Tuesday',\n",
              "       'Wednesday'], dtype=object)"
            ]
          },
          "metadata": {
            "tags": []
          },
          "execution_count": 50
        }
      ]
    },
    {
      "cell_type": "code",
      "metadata": {
        "id": "Z0_SE01YKA3n",
        "colab_type": "code",
        "colab": {}
      },
      "source": [
        "#Target Feature ARRIVAL_DELAY = ARRIVAL_TIME-SCHEDULED_ARRIVAL map to binary data\n",
        "     #>= 15 min delay = 1\n",
        "     #< 15 min delay = 0\n",
        "    \n",
        "final_flights_df['ARRIVAL_DELAY_Binary'] = 1*np.ravel(final_flights_df['ARRIVAL_DELAY']>=15)\n",
        "final_flights_df.drop('ARRIVAL_DELAY', axis = 1, inplace = True)"
      ],
      "execution_count": 0,
      "outputs": []
    },
    {
      "cell_type": "code",
      "metadata": {
        "id": "9tnljgwt_elf",
        "colab_type": "code",
        "colab": {
          "base_uri": "https://localhost:8080/",
          "height": 202
        },
        "outputId": "150a78aa-9f00-4b5a-cd5e-7e01987b7fb0"
      },
      "source": [
        "final_flights_df.head()"
      ],
      "execution_count": 52,
      "outputs": [
        {
          "output_type": "execute_result",
          "data": {
            "text/html": [
              "<div>\n",
              "<style scoped>\n",
              "    .dataframe tbody tr th:only-of-type {\n",
              "        vertical-align: middle;\n",
              "    }\n",
              "\n",
              "    .dataframe tbody tr th {\n",
              "        vertical-align: top;\n",
              "    }\n",
              "\n",
              "    .dataframe thead th {\n",
              "        text-align: right;\n",
              "    }\n",
              "</style>\n",
              "<table border=\"1\" class=\"dataframe\">\n",
              "  <thead>\n",
              "    <tr style=\"text-align: left;\">\n",
              "      <th></th>\n",
              "      <th>MONTH</th>\n",
              "      <th>DAY_OF_WEEK</th>\n",
              "      <th>AIRLINE</th>\n",
              "      <th>DEPARTURE_DELAY</th>\n",
              "      <th>TAXI_OUT</th>\n",
              "      <th>WHEELS_OFF</th>\n",
              "      <th>SCHEDULED_TIME</th>\n",
              "      <th>DISTANCE</th>\n",
              "      <th>ARRIVAL_DELAY_Binary</th>\n",
              "    </tr>\n",
              "  </thead>\n",
              "  <tbody>\n",
              "    <tr>\n",
              "      <th>0</th>\n",
              "      <td>1</td>\n",
              "      <td>Thursday</td>\n",
              "      <td>Alaska Airlines Inc.</td>\n",
              "      <td>-11.0</td>\n",
              "      <td>21.0</td>\n",
              "      <td>15.0</td>\n",
              "      <td>205.0</td>\n",
              "      <td>1448</td>\n",
              "      <td>0</td>\n",
              "    </tr>\n",
              "    <tr>\n",
              "      <th>1</th>\n",
              "      <td>1</td>\n",
              "      <td>Thursday</td>\n",
              "      <td>American Airlines Inc.</td>\n",
              "      <td>-8.0</td>\n",
              "      <td>12.0</td>\n",
              "      <td>14.0</td>\n",
              "      <td>280.0</td>\n",
              "      <td>2330</td>\n",
              "      <td>0</td>\n",
              "    </tr>\n",
              "    <tr>\n",
              "      <th>2</th>\n",
              "      <td>1</td>\n",
              "      <td>Thursday</td>\n",
              "      <td>US Airways Inc.</td>\n",
              "      <td>-2.0</td>\n",
              "      <td>16.0</td>\n",
              "      <td>34.0</td>\n",
              "      <td>286.0</td>\n",
              "      <td>2296</td>\n",
              "      <td>0</td>\n",
              "    </tr>\n",
              "    <tr>\n",
              "      <th>3</th>\n",
              "      <td>1</td>\n",
              "      <td>Thursday</td>\n",
              "      <td>American Airlines Inc.</td>\n",
              "      <td>-5.0</td>\n",
              "      <td>15.0</td>\n",
              "      <td>30.0</td>\n",
              "      <td>285.0</td>\n",
              "      <td>2342</td>\n",
              "      <td>0</td>\n",
              "    </tr>\n",
              "    <tr>\n",
              "      <th>4</th>\n",
              "      <td>1</td>\n",
              "      <td>Thursday</td>\n",
              "      <td>Alaska Airlines Inc.</td>\n",
              "      <td>-1.0</td>\n",
              "      <td>11.0</td>\n",
              "      <td>35.0</td>\n",
              "      <td>235.0</td>\n",
              "      <td>1448</td>\n",
              "      <td>0</td>\n",
              "    </tr>\n",
              "  </tbody>\n",
              "</table>\n",
              "</div>"
            ],
            "text/plain": [
              "   MONTH DAY_OF_WEEK AIRLINE                  DEPARTURE_DELAY  TAXI_OUT  \\\n",
              "0  1      Thursday    Alaska Airlines Inc.   -11.0             21.0       \n",
              "1  1      Thursday    American Airlines Inc. -8.0              12.0       \n",
              "2  1      Thursday    US Airways Inc.        -2.0              16.0       \n",
              "3  1      Thursday    American Airlines Inc. -5.0              15.0       \n",
              "4  1      Thursday    Alaska Airlines Inc.   -1.0              11.0       \n",
              "\n",
              "   WHEELS_OFF  SCHEDULED_TIME  DISTANCE  ARRIVAL_DELAY_Binary  \n",
              "0  15.0        205.0           1448      0                     \n",
              "1  14.0        280.0           2330      0                     \n",
              "2  34.0        286.0           2296      0                     \n",
              "3  30.0        285.0           2342      0                     \n",
              "4  35.0        235.0           1448      0                     "
            ]
          },
          "metadata": {
            "tags": []
          },
          "execution_count": 52
        }
      ]
    },
    {
      "cell_type": "markdown",
      "metadata": {
        "id": "p1x4wU_FROdf",
        "colab_type": "text"
      },
      "source": [
        "## Train Test Split"
      ]
    },
    {
      "cell_type": "code",
      "metadata": {
        "id": "qiHPRarxRQ5A",
        "colab_type": "code",
        "colab": {}
      },
      "source": [
        "train_set,test_set = train_test_split(final_flights_df, test_size = 0.3, random_state = 42) "
      ],
      "execution_count": 0,
      "outputs": []
    },
    {
      "cell_type": "code",
      "metadata": {
        "id": "vV_TMFdERX8-",
        "colab_type": "code",
        "colab": {
          "base_uri": "https://localhost:8080/",
          "height": 35
        },
        "outputId": "75c8187a-0730-43d1-8ac6-82807666db04"
      },
      "source": [
        "print(len(train_set), \"train +\", len(test_set), \"test\")"
      ],
      "execution_count": 54,
      "outputs": [
        {
          "output_type": "stream",
          "text": [
            "3999805 train + 1714203 test\n"
          ],
          "name": "stdout"
        }
      ]
    },
    {
      "cell_type": "code",
      "metadata": {
        "id": "hHLsiutKrjxB",
        "colab_type": "code",
        "colab": {
          "base_uri": "https://localhost:8080/",
          "height": 202
        },
        "outputId": "290c5e55-92f4-422d-f9c4-6273d8e39284"
      },
      "source": [
        "test_set.head()"
      ],
      "execution_count": 55,
      "outputs": [
        {
          "output_type": "execute_result",
          "data": {
            "text/html": [
              "<div>\n",
              "<style scoped>\n",
              "    .dataframe tbody tr th:only-of-type {\n",
              "        vertical-align: middle;\n",
              "    }\n",
              "\n",
              "    .dataframe tbody tr th {\n",
              "        vertical-align: top;\n",
              "    }\n",
              "\n",
              "    .dataframe thead th {\n",
              "        text-align: right;\n",
              "    }\n",
              "</style>\n",
              "<table border=\"1\" class=\"dataframe\">\n",
              "  <thead>\n",
              "    <tr style=\"text-align: left;\">\n",
              "      <th></th>\n",
              "      <th>MONTH</th>\n",
              "      <th>DAY_OF_WEEK</th>\n",
              "      <th>AIRLINE</th>\n",
              "      <th>DEPARTURE_DELAY</th>\n",
              "      <th>TAXI_OUT</th>\n",
              "      <th>WHEELS_OFF</th>\n",
              "      <th>SCHEDULED_TIME</th>\n",
              "      <th>DISTANCE</th>\n",
              "      <th>ARRIVAL_DELAY_Binary</th>\n",
              "    </tr>\n",
              "  </thead>\n",
              "  <tbody>\n",
              "    <tr>\n",
              "      <th>3335058</th>\n",
              "      <td>7</td>\n",
              "      <td>Monday</td>\n",
              "      <td>Skywest Airlines Inc.</td>\n",
              "      <td>6.0</td>\n",
              "      <td>12.0</td>\n",
              "      <td>1641.0</td>\n",
              "      <td>75.0</td>\n",
              "      <td>318</td>\n",
              "      <td>0</td>\n",
              "    </tr>\n",
              "    <tr>\n",
              "      <th>4857110</th>\n",
              "      <td>10</td>\n",
              "      <td>Friday</td>\n",
              "      <td>Delta Air Lines Inc.</td>\n",
              "      <td>1.0</td>\n",
              "      <td>13.0</td>\n",
              "      <td>1837.0</td>\n",
              "      <td>165.0</td>\n",
              "      <td>950</td>\n",
              "      <td>0</td>\n",
              "    </tr>\n",
              "    <tr>\n",
              "      <th>4454180</th>\n",
              "      <td>10</td>\n",
              "      <td>Monday</td>\n",
              "      <td>Southwest Airlines Co.</td>\n",
              "      <td>8.0</td>\n",
              "      <td>7.0</td>\n",
              "      <td>1205.0</td>\n",
              "      <td>115.0</td>\n",
              "      <td>672</td>\n",
              "      <td>0</td>\n",
              "    </tr>\n",
              "    <tr>\n",
              "      <th>5132772</th>\n",
              "      <td>11</td>\n",
              "      <td>Tuesday</td>\n",
              "      <td>Delta Air Lines Inc.</td>\n",
              "      <td>0.0</td>\n",
              "      <td>9.0</td>\n",
              "      <td>1314.0</td>\n",
              "      <td>62.0</td>\n",
              "      <td>214</td>\n",
              "      <td>0</td>\n",
              "    </tr>\n",
              "    <tr>\n",
              "      <th>4075015</th>\n",
              "      <td>9</td>\n",
              "      <td>Friday</td>\n",
              "      <td>Skywest Airlines Inc.</td>\n",
              "      <td>-6.0</td>\n",
              "      <td>19.0</td>\n",
              "      <td>613.0</td>\n",
              "      <td>60.0</td>\n",
              "      <td>224</td>\n",
              "      <td>0</td>\n",
              "    </tr>\n",
              "  </tbody>\n",
              "</table>\n",
              "</div>"
            ],
            "text/plain": [
              "         MONTH DAY_OF_WEEK AIRLINE                  DEPARTURE_DELAY  TAXI_OUT  \\\n",
              "3335058  7      Monday      Skywest Airlines Inc.   6.0              12.0       \n",
              "4857110  10     Friday      Delta Air Lines Inc.    1.0              13.0       \n",
              "4454180  10     Monday      Southwest Airlines Co.  8.0              7.0        \n",
              "5132772  11     Tuesday     Delta Air Lines Inc.    0.0              9.0        \n",
              "4075015  9      Friday      Skywest Airlines Inc.  -6.0              19.0       \n",
              "\n",
              "         WHEELS_OFF  SCHEDULED_TIME  DISTANCE  ARRIVAL_DELAY_Binary  \n",
              "3335058  1641.0      75.0            318       0                     \n",
              "4857110  1837.0      165.0           950       0                     \n",
              "4454180  1205.0      115.0           672       0                     \n",
              "5132772  1314.0      62.0            214       0                     \n",
              "4075015  613.0       60.0            224       0                     "
            ]
          },
          "metadata": {
            "tags": []
          },
          "execution_count": 55
        }
      ]
    },
    {
      "cell_type": "markdown",
      "metadata": {
        "id": "6x0wwpebSa3O",
        "colab_type": "text"
      },
      "source": [
        "### Features"
      ]
    },
    {
      "cell_type": "code",
      "metadata": {
        "id": "y1t-4sQ2RwJB",
        "colab_type": "code",
        "colab": {}
      },
      "source": [
        "target = 'ARRIVAL_DELAY_Binary'\n",
        "features = list(train_set.columns)\n",
        "features = [f for f in features if f!=target]"
      ],
      "execution_count": 0,
      "outputs": []
    },
    {
      "cell_type": "code",
      "metadata": {
        "id": "A5czN13uSuZ2",
        "colab_type": "code",
        "colab": {}
      },
      "source": [
        "X_tr = train_set[features]\n",
        "y_tr = train_set[[target]]\n",
        "\n",
        "X_te = test_set[features]\n",
        "y_te = test_set[[target]]"
      ],
      "execution_count": 0,
      "outputs": []
    },
    {
      "cell_type": "code",
      "metadata": {
        "id": "Mg7nDPV_SxvU",
        "colab_type": "code",
        "colab": {
          "base_uri": "https://localhost:8080/",
          "height": 87
        },
        "outputId": "ab15042a-1ad2-41e3-c95c-88a3753c874d"
      },
      "source": [
        "print('X_tr ',X_tr.shape)\n",
        "print('y_tr ',y_tr.shape)\n",
        "print('X_te ',X_te.shape)\n",
        "print('y_te ',y_te.shape)"
      ],
      "execution_count": 58,
      "outputs": [
        {
          "output_type": "stream",
          "text": [
            "X_tr  (3999805, 8)\n",
            "y_tr  (3999805, 1)\n",
            "X_te  (1714203, 8)\n",
            "y_te  (1714203, 1)\n"
          ],
          "name": "stdout"
        }
      ]
    },
    {
      "cell_type": "markdown",
      "metadata": {
        "id": "WRPGB0820WIp",
        "colab_type": "text"
      },
      "source": [
        "# Prepare the data"
      ]
    },
    {
      "cell_type": "markdown",
      "metadata": {
        "id": "qoCRReuN0iUq",
        "colab_type": "text"
      },
      "source": [
        "This dataset contains a mix of categorical and numerical independent variables which as we know will need to pre-processed in different ways and separately. This means that initially they’ll have to go through separate pipelines to be pre-processed appropriately and then we’ll combine them together. So the first step in both pipelines would have to be to extract the appropriate columns that need to be pushed down for pre-processing."
      ]
    },
    {
      "cell_type": "code",
      "metadata": {
        "id": "774yREgcr1wz",
        "colab_type": "code",
        "colab": {}
      },
      "source": [
        "#first thing in preparing data is to drop the label column from train_set\n",
        "\n",
        "flights_train_set = train_set.drop('ARRIVAL_DELAY_Binary', axis = 1) # drop labels for training set\n",
        "flights_labels = train_set['ARRIVAL_DELAY_Binary'].copy()"
      ],
      "execution_count": 0,
      "outputs": []
    },
    {
      "cell_type": "markdown",
      "metadata": {
        "id": "HHam68pB0vOw",
        "colab_type": "text"
      },
      "source": [
        "### Catagorical Pipeline"
      ]
    },
    {
      "cell_type": "code",
      "metadata": {
        "id": "A6Qc08dT0wxg",
        "colab_type": "code",
        "colab": {}
      },
      "source": [
        "final_df_cat = flights_train_set[['MONTH' ,'DAY_OF_WEEK', 'AIRLINE']]"
      ],
      "execution_count": 0,
      "outputs": []
    },
    {
      "cell_type": "code",
      "metadata": {
        "id": "LFgE4XrY2qE9",
        "colab_type": "code",
        "colab": {
          "base_uri": "https://localhost:8080/",
          "height": 191
        },
        "outputId": "4c8c55d3-ad8f-4c32-8bb1-9a465b3cca37"
      },
      "source": [
        "ordinal_encoder = OrdinalEncoder()\n",
        "final_flights_df_encoded = ordinal_encoder.fit_transform(final_df_cat)\n",
        "final_flights_df_encoded[:10]"
      ],
      "execution_count": 61,
      "outputs": [
        {
          "output_type": "execute_result",
          "data": {
            "text/plain": [
              "array([[ 8.,  2.,  4.],\n",
              "       [ 3.,  6.,  3.],\n",
              "       [ 6.,  2.,  8.],\n",
              "       [ 1.,  0.,  7.],\n",
              "       [ 0.,  5.,  3.],\n",
              "       [ 4.,  0.,  4.],\n",
              "       [ 6.,  0.,  0.],\n",
              "       [11.,  6.,  9.],\n",
              "       [ 0.,  1.,  3.],\n",
              "       [ 7.,  2.,  1.]])"
            ]
          },
          "metadata": {
            "tags": []
          },
          "execution_count": 61
        }
      ]
    },
    {
      "cell_type": "code",
      "metadata": {
        "id": "QYVIn4W82-N6",
        "colab_type": "code",
        "colab": {
          "base_uri": "https://localhost:8080/",
          "height": 191
        },
        "outputId": "6b5b8619-66fc-4169-aacc-db101073b474"
      },
      "source": [
        "ordinal_encoder.categories_"
      ],
      "execution_count": 62,
      "outputs": [
        {
          "output_type": "execute_result",
          "data": {
            "text/plain": [
              "[array([ 1,  2,  3,  4,  5,  6,  7,  8,  9, 10, 11, 12]),\n",
              " array(['Friday', 'Monday', 'Saturday', 'Sunday', 'Thursday', 'Tuesday',\n",
              "        'Wednesday'], dtype=object),\n",
              " array(['Alaska Airlines Inc.', 'American Airlines Inc.',\n",
              "        'American Eagle Airlines Inc.', 'Atlantic Southeast Airlines',\n",
              "        'Delta Air Lines Inc.', 'Frontier Airlines Inc.',\n",
              "        'Hawaiian Airlines Inc.', 'JetBlue Airways',\n",
              "        'Skywest Airlines Inc.', 'Southwest Airlines Co.',\n",
              "        'Spirit Air Lines', 'US Airways Inc.', 'United Air Lines Inc.',\n",
              "        'Virgin America'], dtype=object)]"
            ]
          },
          "metadata": {
            "tags": []
          },
          "execution_count": 62
        }
      ]
    },
    {
      "cell_type": "code",
      "metadata": {
        "id": "4n9NdD2KkAr9",
        "colab_type": "code",
        "colab": {}
      },
      "source": [
        "cat_encoder = OneHotEncoder(sparse = False)"
      ],
      "execution_count": 0,
      "outputs": []
    },
    {
      "cell_type": "code",
      "metadata": {
        "id": "6chRLj3HkR2Z",
        "colab_type": "code",
        "colab": {
          "base_uri": "https://localhost:8080/",
          "height": 139
        },
        "outputId": "c773743a-ab29-4a97-e547-6b3ea37596c2"
      },
      "source": [
        "cat_encoder_1hot = cat_encoder.fit_transform(final_df_cat)\n",
        "cat_encoder_1hot"
      ],
      "execution_count": 64,
      "outputs": [
        {
          "output_type": "execute_result",
          "data": {
            "text/plain": [
              "array([[0., 0., 0., ..., 0., 0., 0.],\n",
              "       [0., 0., 0., ..., 0., 0., 0.],\n",
              "       [0., 0., 0., ..., 0., 0., 0.],\n",
              "       ...,\n",
              "       [0., 0., 0., ..., 0., 0., 0.],\n",
              "       [0., 0., 0., ..., 0., 0., 0.],\n",
              "       [0., 0., 0., ..., 0., 0., 0.]])"
            ]
          },
          "metadata": {
            "tags": []
          },
          "execution_count": 64
        }
      ]
    },
    {
      "cell_type": "code",
      "metadata": {
        "id": "LeDJmiKnkVe_",
        "colab_type": "code",
        "colab": {
          "base_uri": "https://localhost:8080/",
          "height": 139
        },
        "outputId": "39c856eb-14d1-4399-9422-14a130820d55"
      },
      "source": [
        "#Defining the steps in the categorical pipeline\n",
        "\n",
        "from sklearn.pipeline import Pipeline\n",
        "\n",
        "cat_pipeline = Pipeline([\n",
        "    ('cat_encoder', cat_encoder)\n",
        "    \n",
        "])\n",
        "\n",
        "cat_pipeline "
      ],
      "execution_count": 65,
      "outputs": [
        {
          "output_type": "execute_result",
          "data": {
            "text/plain": [
              "Pipeline(memory=None,\n",
              "         steps=[('cat_encoder',\n",
              "                 OneHotEncoder(categorical_features=None, categories=None,\n",
              "                               drop=None, dtype=<class 'numpy.float64'>,\n",
              "                               handle_unknown='error', n_values=None,\n",
              "                               sparse=False))],\n",
              "         verbose=False)"
            ]
          },
          "metadata": {
            "tags": []
          },
          "execution_count": 65
        }
      ]
    },
    {
      "cell_type": "code",
      "metadata": {
        "id": "gtB7iu5BlSgA",
        "colab_type": "code",
        "colab": {}
      },
      "source": [
        ""
      ],
      "execution_count": 0,
      "outputs": []
    },
    {
      "cell_type": "markdown",
      "metadata": {
        "id": "wHKVn59coRgx",
        "colab_type": "text"
      },
      "source": [
        "### Numerical Pipeline"
      ]
    },
    {
      "cell_type": "code",
      "metadata": {
        "id": "ot2IEl0XoSyC",
        "colab_type": "code",
        "colab": {
          "base_uri": "https://localhost:8080/",
          "height": 69
        },
        "outputId": "9238ac25-734d-432c-cc9a-6f9dd4a6943a"
      },
      "source": [
        "flights_train_set.columns"
      ],
      "execution_count": 66,
      "outputs": [
        {
          "output_type": "execute_result",
          "data": {
            "text/plain": [
              "Index(['MONTH', 'DAY_OF_WEEK', 'AIRLINE', 'DEPARTURE_DELAY', 'TAXI_OUT',\n",
              "       'WHEELS_OFF', 'SCHEDULED_TIME', 'DISTANCE'],\n",
              "      dtype='object')"
            ]
          },
          "metadata": {
            "tags": []
          },
          "execution_count": 66
        }
      ]
    },
    {
      "cell_type": "code",
      "metadata": {
        "id": "WcCd_Q1XohFR",
        "colab_type": "code",
        "colab": {}
      },
      "source": [
        "flights_df_num = flights_train_set.drop(['MONTH', 'DAY_OF_WEEK', 'AIRLINE','SCHEDULED_TIME'], axis = 1)"
      ],
      "execution_count": 0,
      "outputs": []
    },
    {
      "cell_type": "code",
      "metadata": {
        "id": "sA_AfvchttkT",
        "colab_type": "code",
        "colab": {}
      },
      "source": [
        "#Defining the steps in the numerical pipeline\n",
        "\n",
        "num_pipeline = Pipeline([\n",
        "        ('std_scaler', StandardScaler())\n",
        "    ])\n",
        "\n",
        "flights_df_num_tr = num_pipeline.fit_transform(flights_df_num)"
      ],
      "execution_count": 0,
      "outputs": []
    },
    {
      "cell_type": "code",
      "metadata": {
        "id": "3E-0IyxSup51",
        "colab_type": "code",
        "colab": {
          "base_uri": "https://localhost:8080/",
          "height": 139
        },
        "outputId": "ae729c93-faa2-47a0-a3a1-86482e8b9e65"
      },
      "source": [
        "flights_df_num_tr"
      ],
      "execution_count": 69,
      "outputs": [
        {
          "output_type": "execute_result",
          "data": {
            "text/plain": [
              "array([[-0.30600161, -0.233028  ,  1.30699744, -0.68901788],\n",
              "       [-0.4414802 ,  0.2174292 ,  0.72464879, -0.98142985],\n",
              "       [-0.36019305,  0.3300435 , -1.11878591, -1.14242071],\n",
              "       ...,\n",
              "       [-0.38728877,  2.69494381, -0.90793554, -0.52145597],\n",
              "       [-0.49567164,  5.05984412, -0.45209711, -0.8746502 ],\n",
              "       [-0.38728877, -0.5708709 , -1.3075472 , -0.10747947]])"
            ]
          },
          "metadata": {
            "tags": []
          },
          "execution_count": 69
        }
      ]
    },
    {
      "cell_type": "code",
      "metadata": {
        "id": "8NDX_w0wut_V",
        "colab_type": "code",
        "colab": {}
      },
      "source": [
        ""
      ],
      "execution_count": 0,
      "outputs": []
    },
    {
      "cell_type": "markdown",
      "metadata": {
        "id": "CJcUKIixu7aW",
        "colab_type": "text"
      },
      "source": [
        "## Combining the pipelines together"
      ]
    },
    {
      "cell_type": "code",
      "metadata": {
        "id": "kqI1klfNu82u",
        "colab_type": "code",
        "colab": {}
      },
      "source": [
        "num_attribute = list(flights_df_num)\n",
        "cat_attribute = ['MONTH' ,'DAY_OF_WEEK', 'AIRLINE']\n",
        "\n",
        "#Combining numerical and categorical piepline into one full big pipeline horizontally \n",
        "\n",
        "full_pipeline = ColumnTransformer ([\n",
        "                     (\"num\", num_pipeline, num_attribute),\n",
        "                     (\"cat\", cat_pipeline, cat_attribute)\n",
        "])\n",
        "\n",
        "flights_df_prepared = full_pipeline.fit_transform(flights_train_set)"
      ],
      "execution_count": 0,
      "outputs": []
    },
    {
      "cell_type": "code",
      "metadata": {
        "id": "gNcdnECDvjSG",
        "colab_type": "code",
        "colab": {
          "base_uri": "https://localhost:8080/",
          "height": 243
        },
        "outputId": "abf1096c-4356-4c02-8ff5-9f9da8488b7a"
      },
      "source": [
        "flights_df_prepared"
      ],
      "execution_count": 71,
      "outputs": [
        {
          "output_type": "execute_result",
          "data": {
            "text/plain": [
              "array([[-0.30600161, -0.233028  ,  1.30699744, ...,  0.        ,\n",
              "         0.        ,  0.        ],\n",
              "       [-0.4414802 ,  0.2174292 ,  0.72464879, ...,  0.        ,\n",
              "         0.        ,  0.        ],\n",
              "       [-0.36019305,  0.3300435 , -1.11878591, ...,  0.        ,\n",
              "         0.        ,  0.        ],\n",
              "       ...,\n",
              "       [-0.38728877,  2.69494381, -0.90793554, ...,  0.        ,\n",
              "         0.        ,  0.        ],\n",
              "       [-0.49567164,  5.05984412, -0.45209711, ...,  0.        ,\n",
              "         0.        ,  0.        ],\n",
              "       [-0.38728877, -0.5708709 , -1.3075472 , ...,  0.        ,\n",
              "         0.        ,  0.        ]])"
            ]
          },
          "metadata": {
            "tags": []
          },
          "execution_count": 71
        }
      ]
    },
    {
      "cell_type": "code",
      "metadata": {
        "id": "HZUbqAINv1k3",
        "colab_type": "code",
        "colab": {
          "base_uri": "https://localhost:8080/",
          "height": 35
        },
        "outputId": "761e1da9-a0a0-4910-da34-18d95a03c92f"
      },
      "source": [
        "flights_df_prepared.shape"
      ],
      "execution_count": 72,
      "outputs": [
        {
          "output_type": "execute_result",
          "data": {
            "text/plain": [
              "(3999805, 37)"
            ]
          },
          "metadata": {
            "tags": []
          },
          "execution_count": 72
        }
      ]
    },
    {
      "cell_type": "markdown",
      "metadata": {
        "id": "_wzNaTpp_4uL",
        "colab_type": "text"
      },
      "source": [
        "### PCA and Decision tree"
      ]
    },
    {
      "cell_type": "code",
      "metadata": {
        "id": "_DfXH6cq_4LU",
        "colab_type": "code",
        "colab": {}
      },
      "source": [
        "from sklearn.decomposition import PCA\n",
        "\n",
        "\n",
        "pca = PCA(.95)"
      ],
      "execution_count": 0,
      "outputs": []
    },
    {
      "cell_type": "code",
      "metadata": {
        "id": "jonyN3FQAs9m",
        "colab_type": "code",
        "colab": {
          "base_uri": "https://localhost:8080/",
          "height": 52
        },
        "outputId": "393a63bf-7794-41fe-b0a0-90cc09267b8c"
      },
      "source": [
        "pca.fit(flights_df_prepared)"
      ],
      "execution_count": 74,
      "outputs": [
        {
          "output_type": "execute_result",
          "data": {
            "text/plain": [
              "PCA(copy=True, iterated_power='auto', n_components=0.95, random_state=None,\n",
              "    svd_solver='auto', tol=0.0, whiten=False)"
            ]
          },
          "metadata": {
            "tags": []
          },
          "execution_count": 74
        }
      ]
    },
    {
      "cell_type": "code",
      "metadata": {
        "id": "EmO-EYUO_4I4",
        "colab_type": "code",
        "colab": {
          "base_uri": "https://localhost:8080/",
          "height": 35
        },
        "outputId": "11c636ae-efdf-4d1c-c4a7-20490f3cea07"
      },
      "source": [
        "pca.n_components_"
      ],
      "execution_count": 75,
      "outputs": [
        {
          "output_type": "execute_result",
          "data": {
            "text/plain": [
              "25"
            ]
          },
          "metadata": {
            "tags": []
          },
          "execution_count": 75
        }
      ]
    },
    {
      "cell_type": "code",
      "metadata": {
        "id": "uQRW7lzQBBQG",
        "colab_type": "code",
        "colab": {}
      },
      "source": [
        "flights_df_reduced = pca.transform(flights_df_prepared)"
      ],
      "execution_count": 0,
      "outputs": []
    },
    {
      "cell_type": "code",
      "metadata": {
        "id": "SZmIJn6CA0A9",
        "colab_type": "code",
        "colab": {}
      },
      "source": [
        "dt = DecisionTreeClassifier(random_state=1)"
      ],
      "execution_count": 0,
      "outputs": []
    },
    {
      "cell_type": "code",
      "metadata": {
        "id": "56gy8ZQg_39-",
        "colab_type": "code",
        "colab": {
          "base_uri": "https://localhost:8080/",
          "height": 121
        },
        "outputId": "85f08e00-9dfb-4874-e7ce-3062dce328db"
      },
      "source": [
        "dt.fit(flights_df_reduced, flights_labels) #with PCA"
      ],
      "execution_count": 78,
      "outputs": [
        {
          "output_type": "execute_result",
          "data": {
            "text/plain": [
              "DecisionTreeClassifier(class_weight=None, criterion='gini', max_depth=None,\n",
              "                       max_features=None, max_leaf_nodes=None,\n",
              "                       min_impurity_decrease=0.0, min_impurity_split=None,\n",
              "                       min_samples_leaf=1, min_samples_split=2,\n",
              "                       min_weight_fraction_leaf=0.0, presort=False,\n",
              "                       random_state=1, splitter='best')"
            ]
          },
          "metadata": {
            "tags": []
          },
          "execution_count": 78
        }
      ]
    },
    {
      "cell_type": "code",
      "metadata": {
        "id": "uMokstvOcYFd",
        "colab_type": "code",
        "colab": {}
      },
      "source": [
        "X_te = test_set.drop(\"ARRIVAL_DELAY_Binary\", axis=1)\n",
        "y_te = test_set[\"ARRIVAL_DELAY_Binary\"].copy()\n",
        "\n",
        "X_test_prepared = full_pipeline.transform(X_te)\n",
        "X_test_reduced = pca.transform(X_test_prepared)"
      ],
      "execution_count": 0,
      "outputs": []
    },
    {
      "cell_type": "code",
      "metadata": {
        "id": "XVOWCSejc0r4",
        "colab_type": "code",
        "colab": {}
      },
      "source": [
        "y_pred= dt.predict(X_test_reduced)"
      ],
      "execution_count": 0,
      "outputs": []
    },
    {
      "cell_type": "code",
      "metadata": {
        "id": "uiagS5mndc6B",
        "colab_type": "code",
        "colab": {
          "base_uri": "https://localhost:8080/",
          "height": 35
        },
        "outputId": "712ea469-1302-4b30-cf1e-355aee959f4a"
      },
      "source": [
        "accuracy_score(y_te,y_pred)"
      ],
      "execution_count": 92,
      "outputs": [
        {
          "output_type": "execute_result",
          "data": {
            "text/plain": [
              "0.912149261201853"
            ]
          },
          "metadata": {
            "tags": []
          },
          "execution_count": 92
        }
      ]
    },
    {
      "cell_type": "code",
      "metadata": {
        "id": "tfz-lyOpBGPh",
        "colab_type": "code",
        "colab": {
          "base_uri": "https://localhost:8080/",
          "height": 303
        },
        "outputId": "01a165ac-aad2-464f-9898-a7ef7270ea65"
      },
      "source": [
        "cm = confusion_matrix(y_pred, y_te)\n",
        "ax= plt.subplot()\n",
        "sns.heatmap(cm, annot=True, ax = ax, cmap=\"YlGnBu\"); #annot=True to annotate cells\n",
        "\n",
        "# labels, title and ticks\n",
        "ax.set_xlabel('Predicted labels');ax.set_ylabel('True labels'); \n",
        "ax.set_title('Confusion Matrix(PCA and Decision Tree)'); \n",
        "ax.xaxis.set_ticklabels(['Not Delayed', 'Delayed']); ax.yaxis.set_ticklabels(['Not Delayed', 'Delayed']);"
      ],
      "execution_count": 94,
      "outputs": [
        {
          "output_type": "display_data",
          "data": {
            "image/png": "[encoded data removed]",
            "text/plain": [
              "<Figure size 432x288 with 2 Axes>"
            ]
          },
          "metadata": {
            "tags": []
          }
        }
      ]
    },
    {
      "cell_type": "code",
      "metadata": {
        "id": "SvIGA37OZOIn",
        "colab_type": "code",
        "colab": {
          "base_uri": "https://localhost:8080/",
          "height": 121
        },
        "outputId": "978d5f12-5480-4dad-ad6d-6232a1d628ec"
      },
      "source": [
        "#let see how it do without PCA\n",
        "\n",
        "dt.fit(flights_df_prepared, flights_labels)  "
      ],
      "execution_count": 108,
      "outputs": [
        {
          "output_type": "execute_result",
          "data": {
            "text/plain": [
              "DecisionTreeClassifier(class_weight=None, criterion='gini', max_depth=None,\n",
              "                       max_features=None, max_leaf_nodes=None,\n",
              "                       min_impurity_decrease=0.0, min_impurity_split=None,\n",
              "                       min_samples_leaf=1, min_samples_split=2,\n",
              "                       min_weight_fraction_leaf=0.0, presort=False,\n",
              "                       random_state=1, splitter='best')"
            ]
          },
          "metadata": {
            "tags": []
          },
          "execution_count": 108
        }
      ]
    },
    {
      "cell_type": "code",
      "metadata": {
        "id": "5lshov26ZOWm",
        "colab_type": "code",
        "colab": {}
      },
      "source": [
        "X_te = test_set.drop(\"ARRIVAL_DELAY_Binary\", axis=1)\n",
        "y_te = test_set[\"ARRIVAL_DELAY_Binary\"].copy()\n",
        "\n",
        "X_test_prepared = full_pipeline.transform(X_te)"
      ],
      "execution_count": 0,
      "outputs": []
    },
    {
      "cell_type": "code",
      "metadata": {
        "id": "7aKfOrd6ZObI",
        "colab_type": "code",
        "colab": {
          "base_uri": "https://localhost:8080/",
          "height": 35
        },
        "outputId": "61dd4dfe-d9ae-4b1e-c317-150f301c386e"
      },
      "source": [
        "y_pred= dt.predict(X_test_prepared)\n",
        "print (\"Accuracy of Decision Tree without PCA is\", accuracy_score(y_te,y_pred))"
      ],
      "execution_count": 111,
      "outputs": [
        {
          "output_type": "stream",
          "text": [
            "Accuracy of Decision Tree without PCA is 0.9130639720033158\n"
          ],
          "name": "stdout"
        }
      ]
    },
    {
      "cell_type": "code",
      "metadata": {
        "id": "jLdiL2rcZ0DP",
        "colab_type": "code",
        "colab": {
          "base_uri": "https://localhost:8080/",
          "height": 303
        },
        "outputId": "64c6d483-9003-44e5-9dc6-e9af9fdeacbb"
      },
      "source": [
        "cm = confusion_matrix(y_pred, y_te)\n",
        "ax= plt.subplot()\n",
        "sns.heatmap(cm, annot=True, ax = ax, cmap=\"YlGnBu\"); #annot=True to annotate cells\n",
        "\n",
        "# labels, title and ticks\n",
        "ax.set_xlabel('Predicted labels');ax.set_ylabel('True labels'); \n",
        "ax.set_title('Confusion Matrix(Decision Tree)'); \n",
        "ax.xaxis.set_ticklabels(['Not Delayed', 'Delayed']); ax.yaxis.set_ticklabels(['Not Delayed', 'Delayed']);"
      ],
      "execution_count": 112,
      "outputs": [
        {
          "output_type": "display_data",
          "data": {
            "image/png": "[encoded data removed]",
            "text/plain": [
              "<Figure size 432x288 with 2 Axes>"
            ]
          },
          "metadata": {
            "tags": []
          }
        }
      ]
    },
    {
      "cell_type": "markdown",
      "metadata": {
        "id": "Gg8ZTf70DWSQ",
        "colab_type": "text"
      },
      "source": [
        "### Stochastic Gradient Boosting"
      ]
    },
    {
      "cell_type": "code",
      "metadata": {
        "id": "7XVc0eAeDWr_",
        "colab_type": "code",
        "colab": {}
      },
      "source": [
        "# Import GradientBoostingRegressor\n",
        "from sklearn.ensemble import GradientBoostingClassifier\n",
        "\n",
        "# Instantiate sgbr\n",
        "sgbr = GradientBoostingClassifier(max_depth=4, \n",
        "            subsample=0.7,\n",
        "            max_features=0.2,\n",
        "            n_estimators=200,                                \n",
        "            random_state=2)"
      ],
      "execution_count": 0,
      "outputs": []
    },
    {
      "cell_type": "code",
      "metadata": {
        "id": "zUb2OaVaD888",
        "colab_type": "code",
        "colab": {
          "base_uri": "https://localhost:8080/",
          "height": 191
        },
        "outputId": "b9044bdc-9e0f-4ab0-dd94-c87565338642"
      },
      "source": [
        "# Fit sgbr to the training set\n",
        "sgbr.fit(flights_df_prepared, flights_labels)"
      ],
      "execution_count": 83,
      "outputs": [
        {
          "output_type": "execute_result",
          "data": {
            "text/plain": [
              "GradientBoostingClassifier(criterion='friedman_mse', init=None,\n",
              "                           learning_rate=0.1, loss='deviance', max_depth=4,\n",
              "                           max_features=0.2, max_leaf_nodes=None,\n",
              "                           min_impurity_decrease=0.0, min_impurity_split=None,\n",
              "                           min_samples_leaf=1, min_samples_split=2,\n",
              "                           min_weight_fraction_leaf=0.0, n_estimators=200,\n",
              "                           n_iter_no_change=None, presort='auto',\n",
              "                           random_state=2, subsample=0.7, tol=0.0001,\n",
              "                           validation_fraction=0.1, verbose=0,\n",
              "                           warm_start=False)"
            ]
          },
          "metadata": {
            "tags": []
          },
          "execution_count": 83
        }
      ]
    },
    {
      "cell_type": "code",
      "metadata": {
        "id": "WqFOkqi0JbP5",
        "colab_type": "code",
        "colab": {}
      },
      "source": [
        "# Predict test set labels\n",
        "X_test_prepared = full_pipeline.transform(X_te)\n",
        "\n",
        "y_pred = sgbr.predict(X_test_prepared)"
      ],
      "execution_count": 0,
      "outputs": []
    },
    {
      "cell_type": "code",
      "metadata": {
        "id": "ZdrsJrolGWyT",
        "colab_type": "code",
        "colab": {
          "base_uri": "https://localhost:8080/",
          "height": 35
        },
        "outputId": "df28e3b9-3531-48dd-d5fb-c94f9c500a1c"
      },
      "source": [
        "# Evaluate test set accuracy\n",
        "acc_test = accuracy_score(y_te, y_pred)\n",
        "acc_test"
      ],
      "execution_count": 104,
      "outputs": [
        {
          "output_type": "execute_result",
          "data": {
            "text/plain": [
              "0.9447935862905386"
            ]
          },
          "metadata": {
            "tags": []
          },
          "execution_count": 104
        }
      ]
    },
    {
      "cell_type": "code",
      "metadata": {
        "id": "nHeKh96GGvEe",
        "colab_type": "code",
        "colab": {
          "base_uri": "https://localhost:8080/",
          "height": 303
        },
        "outputId": "c6d4d2c8-7e72-4b61-e9ba-89d7ec7e82c0"
      },
      "source": [
        "cm = confusion_matrix(y_pred, y_te)\n",
        "ax= plt.subplot()\n",
        "sns.heatmap(cm, annot=True, ax = ax, cmap=\"YlGnBu\"); #annot=True to annotate cells\n",
        "\n",
        "# labels, title and ticks\n",
        "ax.set_xlabel('Predicted labels');ax.set_ylabel('True labels'); \n",
        "ax.set_title('Confusion Matrix (Stochastic Gradient Boosting)'); \n",
        "ax.xaxis.set_ticklabels(['Not Delayed', 'Delayed']); ax.yaxis.set_ticklabels(['Not Delayed', 'Delayed']);"
      ],
      "execution_count": 97,
      "outputs": [
        {
          "output_type": "display_data",
          "data": {
            "image/png": "[encoded data removed]",
            "text/plain": [
              "<Figure size 432x288 with 2 Axes>"
            ]
          },
          "metadata": {
            "tags": []
          }
        }
      ]
    },
    {
      "cell_type": "markdown",
      "metadata": {
        "id": "MBck9Z9JMqEc",
        "colab_type": "text"
      },
      "source": [
        "### SGDClassifier"
      ]
    },
    {
      "cell_type": "code",
      "metadata": {
        "id": "Rh58w6lWMo1h",
        "colab_type": "code",
        "colab": {
          "base_uri": "https://localhost:8080/",
          "height": 329
        },
        "outputId": "267dedaa-00b2-4cdd-b0a3-450d33c5e55c"
      },
      "source": [
        "from sklearn.linear_model import SGDClassifier\n",
        "\n",
        "# We set random_state=0 for reproducibility \n",
        "linear_classifier = SGDClassifier(random_state=0)\n",
        "\n",
        "# Instantiate the GridSearchCV object and run the search\n",
        "parameters = {\n",
        "               'alpha': [1e-4, 1e-3, 1e-2, 1e-1, 1e0, 1e1, 1e2, 1e3], # learning rate\n",
        "               'max_iter': [1000], # number of epochs\n",
        "               'loss': ['log','hinge'],\n",
        "               'penalty': ['l1','l2'],\n",
        "               'n_jobs': [-1]\n",
        "              }\n",
        "                           \n",
        "searcher = GridSearchCV(linear_classifier, parameters, cv=10)\n",
        "searcher.fit(flights_df_prepared, flights_labels)"
      ],
      "execution_count": 98,
      "outputs": [
        {
          "output_type": "execute_result",
          "data": {
            "text/plain": [
              "GridSearchCV(cv=10, error_score='raise-deprecating',\n",
              "             estimator=SGDClassifier(alpha=0.0001, average=False,\n",
              "                                     class_weight=None, early_stopping=False,\n",
              "                                     epsilon=0.1, eta0=0.0, fit_intercept=True,\n",
              "                                     l1_ratio=0.15, learning_rate='optimal',\n",
              "                                     loss='hinge', max_iter=1000,\n",
              "                                     n_iter_no_change=5, n_jobs=None,\n",
              "                                     penalty='l2', power_t=0.5, random_state=0,\n",
              "                                     shuffle=True, tol=0.001,\n",
              "                                     validation_fraction=0.1, verbose=0,\n",
              "                                     warm_start=False),\n",
              "             iid='warn', n_jobs=None,\n",
              "             param_grid={'alpha': [0.0001, 0.001, 0.01, 0.1, 1.0, 10.0, 100.0,\n",
              "                                   1000.0],\n",
              "                         'loss': ['log', 'hinge'], 'max_iter': [1000],\n",
              "                         'n_jobs': [-1], 'penalty': ['l1', 'l2']},\n",
              "             pre_dispatch='2*n_jobs', refit=True, return_train_score=False,\n",
              "             scoring=None, verbose=0)"
            ]
          },
          "metadata": {
            "tags": []
          },
          "execution_count": 98
        }
      ]
    },
    {
      "cell_type": "code",
      "metadata": {
        "id": "1XIsaS2hPVHA",
        "colab_type": "code",
        "colab": {
          "base_uri": "https://localhost:8080/",
          "height": 156
        },
        "outputId": "633e89b4-a853-4921-c689-83f178483c7f"
      },
      "source": [
        "# Report the best parameters and the corresponding score\n",
        "print(\"Best CV params\", searcher.best_params_)\n",
        "print(\"Best CV accuracy\", searcher.best_score_)\n",
        "print(\"Best CV params\", searcher.best_estimator_)\n"
      ],
      "execution_count": 99,
      "outputs": [
        {
          "output_type": "stream",
          "text": [
            "Best CV params {'alpha': 0.0001, 'loss': 'hinge', 'max_iter': 1000, 'n_jobs': -1, 'penalty': 'l2'}\n",
            "Best CV accuracy 0.9437417574106738\n",
            "Best CV params SGDClassifier(alpha=0.0001, average=False, class_weight=None,\n",
            "              early_stopping=False, epsilon=0.1, eta0=0.0, fit_intercept=True,\n",
            "              l1_ratio=0.15, learning_rate='optimal', loss='hinge',\n",
            "              max_iter=1000, n_iter_no_change=5, n_jobs=-1, penalty='l2',\n",
            "              power_t=0.5, random_state=0, shuffle=True, tol=0.001,\n",
            "              validation_fraction=0.1, verbose=0, warm_start=False)\n"
          ],
          "name": "stdout"
        }
      ]
    },
    {
      "cell_type": "code",
      "metadata": {
        "id": "jSVv8X9SPYVV",
        "colab_type": "code",
        "colab": {}
      },
      "source": [
        "# applying the best model to the Test Set of the data\n",
        "\n",
        "SGD_final_model = searcher.best_estimator_\n",
        "\n",
        "X_te = test_set.drop(\"ARRIVAL_DELAY_Binary\", axis=1)\n",
        "y_te = test_set[\"ARRIVAL_DELAY_Binary\"].copy()\n",
        "\n",
        "X_test_prepared = full_pipeline.transform(X_te)"
      ],
      "execution_count": 0,
      "outputs": []
    },
    {
      "cell_type": "code",
      "metadata": {
        "id": "azR2xvo2dXNV",
        "colab_type": "code",
        "colab": {
          "base_uri": "https://localhost:8080/",
          "height": 35
        },
        "outputId": "8c5d45f4-4d32-4b97-b09c-6d505e79be78"
      },
      "source": [
        "SGD_final_predictions = SGD_final_model.predict(X_test_prepared)\n",
        "print(\"Test accuracy of best grid search hypers:\", SGD_final_model.score(X_test_prepared, y_te))"
      ],
      "execution_count": 101,
      "outputs": [
        {
          "output_type": "stream",
          "text": [
            "Test accuracy of best grid search hypers: 0.943909210286063\n"
          ],
          "name": "stdout"
        }
      ]
    },
    {
      "cell_type": "code",
      "metadata": {
        "id": "bbqR-VHHCeGo",
        "colab_type": "code",
        "colab": {
          "base_uri": "https://localhost:8080/",
          "height": 303
        },
        "outputId": "4e890bd6-b769-4c92-8fb2-c120a9ee9f1d"
      },
      "source": [
        "cm = confusion_matrix(SGD_final_predictions, y_te)\n",
        "ax= plt.subplot()\n",
        "sns.heatmap(cm, annot=True, ax = ax, cmap=\"YlGnBu\"); #annot=True to annotate cells\n",
        "\n",
        "# labels, title and ticks\n",
        "ax.set_xlabel('Predicted labels');ax.set_ylabel('True labels'); \n",
        "ax.set_title('Confusion Matrix (SGDClassifier)'); \n",
        "ax.xaxis.set_ticklabels(['Not Delayed', 'Delayed']); ax.yaxis.set_ticklabels(['Not Delayed', 'Delayed']);"
      ],
      "execution_count": 107,
      "outputs": [
        {
          "output_type": "display_data",
          "data": {
            "image/png": "[encoded data removed]",
            "text/plain": [
              "<Figure size 432x288 with 2 Axes>"
            ]
          },
          "metadata": {
            "tags": []
          }
        }
      ]
    },
    {
      "cell_type": "markdown",
      "metadata": {
        "id": "VHnTimgD2hTl",
        "colab_type": "text"
      },
      "source": [
        "### Random Forest"
      ]
    },
    {
      "cell_type": "code",
      "metadata": {
        "id": "7fbtv9eh2j1W",
        "colab_type": "code",
        "colab": {}
      },
      "source": [
        "clf = RandomForestClassifier(n_estimators=3, random_state=0)   "
      ],
      "execution_count": 0,
      "outputs": []
    },
    {
      "cell_type": "code",
      "metadata": {
        "id": "TMrgFsa_2sto",
        "colab_type": "code",
        "colab": {}
      },
      "source": [
        "# Random Forest with Cross Validation\n",
        "# We will use Area under the Curve of ROC for scoring method\n",
        "\n",
        "scores_clf = cross_val_score(clf,flights_df_prepared,flights_labels ,scoring = 'roc_auc',cv=4)"
      ],
      "execution_count": 0,
      "outputs": []
    },
    {
      "cell_type": "code",
      "metadata": {
        "id": "6By9FyvI5X5d",
        "colab_type": "code",
        "colab": {}
      },
      "source": [
        "#Scores for Random Forest\n",
        "\n",
        "print(scores_clf)"
      ],
      "execution_count": 0,
      "outputs": []
    },
    {
      "cell_type": "code",
      "metadata": {
        "id": "6piJo4bU7Y2Y",
        "colab_type": "code",
        "colab": {}
      },
      "source": [
        "# For Random Forrest\n",
        "\n",
        "param_grid = {'n_estimators': [20, 30, 40]}\n",
        "\n",
        "forest_clf = RandomForestClassifier(random_state=42)\n",
        "\n",
        "forest_grid_search = GridSearchCV(forest_clf, param_grid, cv = 2, scoring = \"roc_auc\", return_train_score=True)\n",
        "\n",
        "forest_grid_search.fit(flights_df_prepared,flights_labels)"
      ],
      "execution_count": 0,
      "outputs": []
    },
    {
      "cell_type": "code",
      "metadata": {
        "id": "c0h6_vnL7hGc",
        "colab_type": "code",
        "colab": {}
      },
      "source": [
        "forest_grid_search.best_params_"
      ],
      "execution_count": 0,
      "outputs": []
    },
    {
      "cell_type": "code",
      "metadata": {
        "id": "k1bcvvst7wlH",
        "colab_type": "code",
        "colab": {}
      },
      "source": [
        "forest_grid_search.best_estimator_"
      ],
      "execution_count": 0,
      "outputs": []
    },
    {
      "cell_type": "code",
      "metadata": {
        "id": "Ds8KjwpF7xQD",
        "colab_type": "code",
        "colab": {}
      },
      "source": [
        "forest_grid_search.best_score_"
      ],
      "execution_count": 0,
      "outputs": []
    },
    {
      "cell_type": "code",
      "metadata": {
        "id": "1_O9XAssD4x4",
        "colab_type": "code",
        "colab": {}
      },
      "source": [
        "# applying the best model to the Test Set of the data\n",
        "\n",
        "forest_final_model = forest_grid_search.best_estimator_\n",
        "\n",
        "X_te = test_set.drop(\"ARRIVAL_DELAY_Binary\", axis=1)\n",
        "y_te = test_set[\"ARRIVAL_DELAY_Binary\"].copy()\n",
        "\n",
        "X_test_prepared = full_pipeline.transform(X_te)\n",
        "forest_final_predictions = forest_final_model.predict(X_test_prepared)\n",
        "\n",
        "print(classification_report(forest_final_predictions, y_te))"
      ],
      "execution_count": 0,
      "outputs": []
    },
    {
      "cell_type": "code",
      "metadata": {
        "id": "Swy9EJG8D45W",
        "colab_type": "code",
        "colab": {}
      },
      "source": [
        "print(confusion_matrix(forest_final_predictions, y_te))"
      ],
      "execution_count": 0,
      "outputs": []
    },
    {
      "cell_type": "code",
      "metadata": {
        "id": "oxaOY3CT9MTr",
        "colab_type": "code",
        "colab": {}
      },
      "source": [
        "cm = confusion_matrix(forest_final_predictions, y_te))\n",
        "ax= plt.subplot()\n",
        "sns.heatmap(cm, annot=True, ax = ax); #annot=True to annotate cells\n",
        "\n",
        "# labels, title and ticks\n",
        "ax.set_xlabel('Predicted labels');ax.set_ylabel('True labels'); \n",
        "ax.set_title('Confusion Matrix'); \n",
        "ax.xaxis.set_ticklabels(['business', 'health']); ax.yaxis.set_ticklabels(['health', 'business']);"
      ],
      "execution_count": 0,
      "outputs": []
    },
    {
      "cell_type": "code",
      "metadata": {
        "id": "zOdnXbsBD4s5",
        "colab_type": "code",
        "colab": {}
      },
      "source": [
        "# predict probabilities\n",
        "probs_forest = forest_final_model.predict_proba(X_test_prepared)\n",
        "\n",
        "# keep probabilities for the positive outcome only\n",
        "probs_forest = probs_forest[:, 1]\n",
        "# calculate AUC\n",
        "auc = roc_auc_score(y_te, probs_forest)\n",
        "print('AUC: %.3f' % auc)\n",
        "# calculate roc curve\n",
        "fpr, tpr, thresholds = roc_curve(y_te, probs_forest)\n",
        "# plot no skill\n",
        "pyplot.plot([0, 1], [0, 1], linestyle='--')\n",
        "# plot the precision-recall curve for the model\n",
        "pyplot.plot(fpr, tpr, marker='.')\n",
        "# show the plot\n",
        "pyplot.title(\"ROC Curve for Random Forest Final Model\")\n",
        "pyplot.xlabel(\"False Positive Rate\")\n",
        "pyplot.ylabel(\"True Positive Rate\")\n",
        "pyplot.show()\n",
        "pyplot.show()"
      ],
      "execution_count": 0,
      "outputs": []
    },
    {
      "cell_type": "code",
      "metadata": {
        "id": "wdRBlFx6D4qJ",
        "colab_type": "code",
        "colab": {}
      },
      "source": [
        "#Visualizing features importances\n",
        "\n",
        "# Create a pd.Series of features importances\n",
        "importances = pd.Series(data=forest_final_model.feature_importances_,\n",
        "                        index= flights_df_prepared.columns)\n",
        "\n",
        "# Sort importances\n",
        "importances_sorted = importances.sort_values()\n",
        "\n",
        "# Draw a horizontal barplot of importances_sorted\n",
        "importances_sorted.plot(kind='barh', color='lightgreen')\n",
        "plt.title('Features Importances')\n",
        "plt.show()"
      ],
      "execution_count": 0,
      "outputs": []
    },
    {
      "cell_type": "code",
      "metadata": {
        "id": "pg3q5gaGD4nB",
        "colab_type": "code",
        "colab": {}
      },
      "source": [
        ""
      ],
      "execution_count": 0,
      "outputs": []
    }
  ]
}